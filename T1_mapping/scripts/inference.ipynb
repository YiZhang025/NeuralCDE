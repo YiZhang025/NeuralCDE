{
 "cells": [
  {
   "cell_type": "code",
   "execution_count": 2,
   "metadata": {},
   "outputs": [],
   "source": [
    "import wandb\n",
    "import math\n",
    "import torch\n",
    "import torchcde\n",
    "from tqdm import tqdm\n",
    "import seaborn as sns\n",
    "import numpy as np \n",
    "from matplotlib import pyplot as plt\n",
    "import os\n",
    "from pathlib import Path\n",
    "from scipy.io import loadmat \n",
    "import time \n",
    "from model import *\n",
    "from data import *"
   ]
  },
  {
   "cell_type": "code",
   "execution_count": null,
   "metadata": {},
   "outputs": [],
   "source": [
    "# Load Pretrained Model - 1: NCDE, 2: MLP\n",
    "model = NeuralCDE(input_channels=2, hidden_channels=3, output_channels=3)\n",
    "model = model.cuda()\n",
    "model.load_state_dict(torch.load('/mnt/vol6t/Projects/NeuralCDE/T1_mapping/scripts/wandb/run-20230504_171827-94mjf1q9/files/model.pt'))\n",
    "\n",
    "model_2 = MLP(input_channels=22, hidden_channels=128, output_channels=3)\n",
    "model_2 = model_2.cuda()\n",
    "model_2.load_state_dict(torch.load('/mnt/vol6t/Projects/NeuralCDE/T1_mapping/scripts/wandb/run-20230515_140834-8sddtv91/files/model_at_epoch_86.pt'))"
   ]
  },
  {
   "cell_type": "code",
   "execution_count": 2,
   "metadata": {},
   "outputs": [],
   "source": [
    "def get_data_stack(data):\n",
    "    data_tensor = torch.Tensor(data['volume'].astype(np.float32))\n",
    "    time_tensor = torch.Tensor(data['tvec'].astype(np.float32))\n",
    "    time_tensor_unsorted = time_tensor.clone()\n",
    "    # now add sorting\n",
    "    time_tensor, index = torch.sort(time_tensor)\n",
    "    data_tensor = data_tensor[:,:,index]\n",
    "\n",
    "    data_reshaped = data_tensor.reshape(-1,11)\n",
    "    X_test = torch.stack([time_tensor.unsqueeze(0).repeat(data_tensor.shape[0]* data_tensor.shape[1], 1), data_reshaped], dim=2)\n",
    "    return X_test, time_tensor_unsorted, data_reshaped"
   ]
  },
  {
   "cell_type": "code",
   "execution_count": 3,
   "metadata": {},
   "outputs": [],
   "source": [
    "# Load Test Data and Label Data\n",
    "# test data loading\n",
    "#dat = loadmat('MAVI102_20151026_pre1.mat') \n",
    "\n",
    "image_name = '2980827_20140416_MOLLI_pre_groupwise.mat'\n",
    "image_slice = 1\n",
    "\n",
    "data_Yi = loadmat_wrapper_with_contour_org('/mnt/vol6t/Projects/NeuralCDE/T1_mapping/registered_dataset/'+image_name,image_slice)\n",
    "\n",
    "X_test,time_tensor_unsorted, data_reshaped = get_data_stack(data_Yi)"
   ]
  },
  {
   "attachments": {},
   "cell_type": "markdown",
   "metadata": {},
   "source": [
    "# Inference"
   ]
  },
  {
   "cell_type": "code",
   "execution_count": null,
   "metadata": {},
   "outputs": [],
   "source": [
    "#X_test = torch.stack([time_tensor.unsqueeze(0).repeat(data_tensor.shape[0]* data_tensor.shape[1], 1), data_reshaped], dim=2)\n",
    "\n",
    "fitted_params = torch.Tensor(np.load(f'/mnt/vol6t/Projects/curve_fit/PyMC/output_data/{image_name}_slice_{image_slice}.npy'))\n",
    "fitted_params = fitted_params.reshape(-1, 3)\n",
    "######################\n",
    "# Validation\n",
    "######################\n",
    "test_X = X_test\n",
    "test_y = fitted_params\n",
    "test_X_norm = test_X/torch.Tensor([1000,100])\n",
    "#test_y_norm = test_y/torch.Tensor([100,1,1000])\n",
    "#test_time_norm = test_time/1000\n",
    "\n",
    "text_X_norm_mlp = test_X_norm.reshape(-1,22)\n",
    "print(text_X_norm_mlp.shape)\n",
    "model.eval()\n",
    "\n",
    "test_coeffs = torchcde.hermite_cubic_coefficients_with_backward_differences(test_X_norm)\n",
    "test_coeffs = test_coeffs.cuda()\n",
    "test_y = test_y.cuda()\n",
    "\n",
    "test_dataset = torch.utils.data.TensorDataset(test_coeffs, test_y)\n",
    "test_dataloader = torch.utils.data.DataLoader(test_dataset, batch_size=8192)\n",
    "\n",
    "test_dataset_mlp = torch.utils.data.TensorDataset(text_X_norm_mlp.cuda(), test_y)\n",
    "test_dataloader_mlp = torch.utils.data.DataLoader(test_dataset_mlp, batch_size=8192)\n",
    "\n",
    "val_loss = []\n",
    "val_prediction = []\n",
    "for batch in tqdm(test_dataloader):\n",
    "    batch_coeffs, batch_y, = batch\n",
    "    batch_coeffs = batch_coeffs.cuda()\n",
    "    batch_y = batch_y.cuda()\n",
    "    pred_y = model(batch_coeffs).squeeze(-1)\n",
    "    loss = nn.functional.l1_loss(pred_y, batch_y)\n",
    "    # rescale pred_y to the original scale\n",
    "    pred_y = pred_y*(torch.Tensor([100,1,1000]).cuda())\n",
    "    val_prediction.append(pred_y)\n",
    "    val_loss.append(loss.item())\n",
    "\n",
    "val_prediction = torch.cat(val_prediction, dim=0)[:,2]\n",
    "val_prediction = val_prediction.cpu().detach().numpy()\n",
    "val_loss = np.array(val_loss)\n",
    "print(val_loss.mean())\n",
    "\n",
    "val_loss = []\n",
    "val_prediction_mlp = []\n",
    "for batch in tqdm(test_dataloader_mlp):\n",
    "    batch_x, batch_y, = batch\n",
    "    batch_x = batch_x.cuda()\n",
    "    batch_y = batch_y.cuda()\n",
    "    pred_y = model_2(batch_x).squeeze(-1)\n",
    "    loss = nn.functional.l1_loss(pred_y, batch_y)\n",
    "    # rescale pred_y to the original scale\n",
    "    pred_y = pred_y*(torch.Tensor([100,1,1000]).cuda())\n",
    "    val_prediction_mlp.append(pred_y)\n",
    "    val_loss.append(loss.item())\n",
    "\n",
    "val_prediction_mlp = torch.cat(val_prediction_mlp, dim=0)[:,2]\n",
    "val_prediction_mlp = val_prediction_mlp.cpu().detach().numpy()\n",
    "val_loss = np.array(val_loss)\n",
    "print(val_loss.mean())"
   ]
  },
  {
   "cell_type": "code",
   "execution_count": null,
   "metadata": {},
   "outputs": [],
   "source": [
    "fig, (ax1,ax2,ax3) = plt.subplots(1,3, dpi=300)\n",
    "fig.suptitle(f'T1 Mapping', x = 0.56, y = 0.7)\n",
    "im = ax1.imshow(fitted_params.reshape(200,200,3)[:,:,2], vmin=200, vmax=2e3, cmap='jet')\n",
    "ax1.set_title('LS - T1 (ms)', y = -0.2)\n",
    "ax1.axis('off')\n",
    "\n",
    "plt.colorbar(im, fraction=0.040, pad=0.025)\n",
    "\n",
    "im = ax2.imshow(val_prediction_mlp.reshape(200,200), cmap='jet', vmin=200, vmax=2e3)\n",
    "ax2.axis('off')\n",
    "ax2.set_title('MLP - T1 (ms)', y = -0.2)\n",
    "plt.colorbar(im, fraction=0.040, pad=0.025)\n",
    "\n",
    "im = ax3.imshow(val_prediction.reshape(200,200), cmap='jet', vmin=200, vmax=2e3)\n",
    "ax3.axis('off')\n",
    "ax3.set_title('NCDE - T1 (ms)', y = -0.2)\n",
    "plt.colorbar(im, fraction=0.040, pad=0.025)\n",
    "\n",
    "fig.tight_layout()"
   ]
  },
  {
   "attachments": {},
   "cell_type": "markdown",
   "metadata": {},
   "source": [
    "# Noise Resistency"
   ]
  },
  {
   "cell_type": "code",
   "execution_count": null,
   "metadata": {},
   "outputs": [],
   "source": [
    "data_tensor = torch.Tensor(data_Yi['volume'].astype(np.float32))\n",
    "time_tensor = torch.Tensor(data_Yi['tvec'].astype(np.float32))\n",
    "time_tensor_unsorted = time_tensor.clone()\n",
    "# now add sorting\n",
    "time_tensor, index = torch.sort(time_tensor)\n",
    "data_tensor = data_tensor[:,:,index]\n",
    "\n",
    "data_reshaped = data_tensor.reshape(-1,11)\n",
    "X_test = torch.stack([time_tensor.unsqueeze(0).repeat(data_tensor.shape[0]* data_tensor.shape[1], 1), data_reshaped], dim=2)\n"
   ]
  },
  {
   "cell_type": "code",
   "execution_count": null,
   "metadata": {},
   "outputs": [],
   "source": [
    "index"
   ]
  },
  {
   "cell_type": "code",
   "execution_count": null,
   "metadata": {},
   "outputs": [],
   "source": [
    "# Test\n",
    "for i in range(2\n",
    "               ):\n",
    "    print('now the perturabation std is ', (i+1)*5)\n",
    "    data_reshaped_perturbed = data_reshaped + torch.randn_like(data_reshaped) * 5*(i+1)\n",
    "    #test_X = data_reshaped_perturbed\n",
    "    X_test = torch.stack([time_tensor.unsqueeze(0).repeat(data_tensor.shape[0]* data_tensor.shape[1], 1), data_reshaped_perturbed], dim=2)\n",
    "\n",
    "    fitted_params = torch.Tensor(np.load(f'/mnt/vol6t/Projects/curve_fit/PyMC/output_data_perturb/2980827_20140416_MOLLI_pre_groupwise.mat_slice_1_perturb_{5*(i+1)}.npy'))\n",
    "    fitted_params = fitted_params.reshape(-1, 3)\n",
    "    ######################\n",
    "    # Validation\n",
    "    ######################\n",
    "    test_X = X_test\n",
    "    test_y = fitted_params\n",
    "    test_X_norm = test_X/torch.Tensor([1000,100])\n",
    "    #test_y_norm = test_y/torch.Tensor([100,1,1000])\n",
    "    #test_time_norm = test_time/1000\n",
    "\n",
    "    model.eval()\n",
    "\n",
    "    test_coeffs = torchcde.hermite_cubic_coefficients_with_backward_differences(test_X_norm)\n",
    "    test_coeffs = test_coeffs.cuda()\n",
    "    test_y = test_y.cuda()\n",
    "    \n",
    "    test_dataset = torch.utils.data.TensorDataset(test_coeffs, test_y)\n",
    "    test_dataloader = torch.utils.data.DataLoader(test_dataset, batch_size=2048)\n",
    "\n",
    "    text_X_norm_mlp = test_X_norm.reshape(-1,22)\n",
    "    test_dataset_mlp = torch.utils.data.TensorDataset(text_X_norm_mlp.cuda(), test_y)\n",
    "    test_dataloader_mlp = torch.utils.data.DataLoader(test_dataset_mlp, batch_size=8192)\n",
    "\n",
    "\n",
    "\n",
    "    val_loss = []\n",
    "    val_prediction = []\n",
    "    for batch in tqdm(test_dataloader):\n",
    "        batch_coeffs, batch_y, = batch\n",
    "        batch_coeffs = batch_coeffs.cuda()\n",
    "        batch_y = batch_y.cuda()\n",
    "        pred_y = model(batch_coeffs).squeeze(-1)\n",
    "        # rescale pred_y to the original scale\n",
    "        pred_y = pred_y*(torch.Tensor([100,1,1000]).cuda())\n",
    "        val_prediction.append(pred_y)\n",
    "\n",
    "    val_prediction = torch.cat(val_prediction, dim=0)[:,2]\n",
    "    val_prediction = val_prediction.cpu().detach().numpy()\n",
    "\n",
    "    val_loss = []\n",
    "    val_prediction_mlp = []\n",
    "    for batch in tqdm(test_dataloader_mlp):\n",
    "        batch_x, batch_y, = batch\n",
    "        batch_x = batch_x.cuda()\n",
    "        batch_y = batch_y.cuda()\n",
    "        pred_y = model_2(batch_x).squeeze(-1)\n",
    "        loss = nn.functional.l1_loss(pred_y, batch_y)\n",
    "        # rescale pred_y to the original scale\n",
    "        pred_y = pred_y*(torch.Tensor([100,1,1000]).cuda())\n",
    "        val_prediction_mlp.append(pred_y)\n",
    "        val_loss.append(loss.item())\n",
    "    val_prediction_mlp = torch.cat(val_prediction_mlp, dim=0)[:,2]\n",
    "    val_prediction_mlp = val_prediction_mlp.cpu().detach().numpy()\n",
    "\n",
    "    ######################\n",
    "    # Plotting\n",
    "    ######################\n",
    "    fig, (ax1,ax2,ax3) = plt.subplots(1,3, dpi=300)\n",
    "    fig.suptitle(f'T1 Mapping at Gaussian Noise Level {(i+1)*5}', x = 0.56, y = 0.72)\n",
    "    im = ax1.imshow(fitted_params.reshape(256,256,3)[:,:,2], vmin=200, vmax=2e3, cmap='jet')\n",
    "    ax1.set_title('LS - T1 (ms)', y = -0.2)\n",
    "    ax1.axis('off')\n",
    "\n",
    "    plt.colorbar(im, fraction=0.040, pad=0.025)\n",
    "\n",
    "    im = ax2.imshow(val_prediction_mlp.reshape(256,256), cmap='jet', vmin=200, vmax=2e3)\n",
    "    ax2.axis('off')\n",
    "    ax2.set_title('MLP - T1 (ms)', y = -0.2)\n",
    "    plt.colorbar(im, fraction=0.040, pad=0.025)\n",
    "\n",
    "    im = ax3.imshow(val_prediction.reshape(256,256), cmap='jet', vmin=200, vmax=2e3)\n",
    "    ax3.axis('off')\n",
    "    ax3.set_title('NCDE - T1 (ms)', y = -0.2)\n",
    "    plt.colorbar(im, fraction=0.040, pad=0.025)\n",
    "\n",
    "\n",
    "    fig.tight_layout()\n",
    "    #plt.show()\n",
    "    plt.savefig(f'/mnt/vol6t/Projects/NeuralCDE/T1_mapping/figures/noise_gaussian/MAVI102_20151026_pre1.mat_slice_1_perturb_{5*(i+1)}.png')\n",
    "\n",
    "    #plt.savefig(f'/figures/{image_name}_perturb_{(i+1)*5}.png')\n",
    "    #plt.close()\n",
    "    val_loss = np.array(val_loss)\n",
    "    ######################\n",
    "    # Logging\n",
    "    ######################\n",
    "\n",
    "    #wandb.log({'validation_figure_with_noisy_signals': fig})\n",
    "    #wandb.log({\"noise_level\": i})\n",
    "\n",
    "\n",
    "    #torch.save(model.state_dict(), f'./model_{epoch}.pth')"
   ]
  },
  {
   "cell_type": "code",
   "execution_count": null,
   "metadata": {},
   "outputs": [],
   "source": [
    "import imageio\n",
    "frames = []\n",
    "for t in range(-1,20):\n",
    "    image = imageio.v2.imread(f'/mnt/vol6t/Projects/NeuralCDE/T1_mapping/figures/noise_gaussian/MAVI102_20151026_pre1.mat_slice_1_perturb_{5*(t+1)}.png')\n",
    "    frames.append(image)"
   ]
  },
  {
   "cell_type": "code",
   "execution_count": null,
   "metadata": {},
   "outputs": [],
   "source": [
    "imageio.mimsave('./example_extended.gif', # output gif\n",
    "                frames,          # array of input frames\n",
    "                fps = 3)         # optional: frames per second"
   ]
  },
  {
   "cell_type": "code",
   "execution_count": null,
   "metadata": {},
   "outputs": [],
   "source": [
    "print(zip(1 for _ in range(3)))\n"
   ]
  },
  {
   "attachments": {},
   "cell_type": "markdown",
   "metadata": {},
   "source": [
    "# Partial Observation - Shortened"
   ]
  },
  {
   "cell_type": "code",
   "execution_count": null,
   "metadata": {},
   "outputs": [],
   "source": [
    "# Load Pretrained Model - 1: NCDE trained with varied length from 3 to 11\n",
    "model = NeuralCDE(input_channels=2, hidden_channels=8, output_channels=3)\n",
    "model = model.cuda()\n",
    "model.load_state_dict(torch.load('/mnt/vol6t/Projects/NeuralCDE/T1_mapping/scripts/wandb/run-20230502_134151-58759brs/files/model.pt'))\n",
    "model.eval()"
   ]
  },
  {
   "cell_type": "code",
   "execution_count": null,
   "metadata": {},
   "outputs": [],
   "source": [
    "def fill_forward(x):\n",
    "    return torch.cat([x, x[-1].unsqueeze(0).expand(11 - x.size(0), x.size(1))])"
   ]
  },
  {
   "cell_type": "code",
   "execution_count": null,
   "metadata": {},
   "outputs": [],
   "source": [
    "text_X_norm_extend = torch.zeros((test_X_norm.shape[0], 11, 2))\n",
    "for i in tqdm(range(test_X_norm.shape[0])):\n",
    "    text_X_norm_extend[i] = fill_forward(test_X_norm[i])"
   ]
  },
  {
   "cell_type": "code",
   "execution_count": null,
   "metadata": {},
   "outputs": [],
   "source": [
    "X_test = torch.stack([time_tensor.unsqueeze(0).repeat(data_tensor.shape[0]* data_tensor.shape[1], 1), data_reshaped], dim=2)\n",
    "\n",
    "fitted_params = torch.Tensor(np.load(f'/mnt/vol6t/Projects/curve_fit/PyMC/output_data/{image_name}_slice_{image_slice}.npy'))\n",
    "fitted_params = fitted_params.reshape(-1, 3)\n",
    "######################\n",
    "# Validation\n",
    "######################\n",
    "test_X = X_test\n",
    "test_y = fitted_params\n",
    "test_X_norm = test_X/torch.Tensor([1000,100])\n",
    "#test_y_norm = test_y/torch.Tensor([100,1,1000])\n",
    "#test_time_norm = test_time/1000\n",
    "\n",
    "text_X_norm_mlp = test_X_norm.reshape(-1,22)\n",
    "test_X_norm = test_X_norm[:,[0,1,2,3,4,6,10],:]\n",
    "print(text_X_norm_mlp.shape)\n",
    "model.eval()"
   ]
  },
  {
   "cell_type": "code",
   "execution_count": null,
   "metadata": {},
   "outputs": [],
   "source": [
    "#X_test = torch.stack([time_tensor.unsqueeze(0).repeat(data_tensor.shape[0]* data_tensor.shape[1], 1), data_reshaped], dim=2)\n",
    "\n",
    "fitted_params = torch.Tensor(np.load(f'/mnt/vol6t/Projects/curve_fit/PyMC/output_data/{image_name}_slice_{image_slice}.npy'))\n",
    "fitted_params = fitted_params.reshape(-1, 3)\n",
    "######################\n",
    "# Validation\n",
    "######################\n",
    "test_X = X_test\n",
    "test_y = fitted_params\n",
    "test_X_norm = test_X/torch.Tensor([1000,100])\n",
    "#test_y_norm = test_y/torch.Tensor([100,1,1000])\n",
    "#test_time_norm = test_time/1000\n",
    "\n",
    "text_X_norm_mlp = test_X_norm.reshape(-1,22)\n",
    "test_X_norm = test_X_norm[:,[0,1,3,4,6],:]\n",
    "print(text_X_norm_mlp.shape)\n",
    "model.eval()\n",
    "text_X_norm_extend = torch.zeros((test_X_norm.shape[0], 11, 2))\n",
    "for i in tqdm(range(test_X_norm.shape[0])):\n",
    "    text_X_norm_extend[i] = fill_forward(test_X_norm[i])\n",
    "\n",
    "test_coeffs_extend = torchcde.hermite_cubic_coefficients_with_backward_differences(text_X_norm_extend)\n",
    "test_coeffs_extend = test_coeffs_extend.cuda()\n",
    "\n",
    "test_coeffs = torchcde.hermite_cubic_coefficients_with_backward_differences(test_X_norm)\n",
    "test_coeffs = test_coeffs.cuda()\n",
    "\n",
    "test_y = test_y.cuda()\n",
    "\n",
    "test_dataset = torch.utils.data.TensorDataset(test_coeffs, test_y)\n",
    "test_dataloader = torch.utils.data.DataLoader(test_dataset, batch_size=8192)\n",
    "\n",
    "test_dataset_extend = torch.utils.data.TensorDataset(test_coeffs_extend, test_y)\n",
    "test_dataloader_extend = torch.utils.data.DataLoader(test_dataset_extend, batch_size=8192)\n",
    "\n",
    "test_dataset_mlp = torch.utils.data.TensorDataset(text_X_norm_extend.reshape(-1,22).cuda(), test_y)\n",
    "test_dataloader_mlp = torch.utils.data.DataLoader(test_dataset_mlp, batch_size=8192)\n",
    "\n",
    "val_loss = []\n",
    "val_prediction = []\n",
    "for batch in tqdm(test_dataloader):\n",
    "    batch_coeffs, batch_y, = batch\n",
    "    batch_coeffs = batch_coeffs.cuda()\n",
    "    batch_y = batch_y.cuda()\n",
    "    pred_y = model(batch_coeffs).squeeze(-1)\n",
    "    loss = nn.functional.l1_loss(pred_y, batch_y)\n",
    "    # rescale pred_y to the original scale\n",
    "    pred_y = pred_y*(torch.Tensor([100,1,1000]).cuda())\n",
    "    val_prediction.append(pred_y)\n",
    "    val_loss.append(loss.item())\n",
    "\n",
    "val_prediction = torch.cat(val_prediction, dim=0)[:,2]\n",
    "val_prediction = val_prediction.cpu().detach().numpy()\n",
    "val_loss = np.array(val_loss)\n",
    "print(val_loss.mean())\n",
    "\n",
    "val_loss = []\n",
    "val_prediction_extend = []\n",
    "for batch in tqdm(test_dataloader_extend):\n",
    "    batch_coeffs, batch_y, = batch\n",
    "    batch_coeffs = batch_coeffs.cuda()\n",
    "    batch_y = batch_y.cuda()\n",
    "    pred_y = model(batch_coeffs).squeeze(-1)\n",
    "    loss = nn.functional.l1_loss(pred_y, batch_y)\n",
    "    # rescale pred_y to the original scale\n",
    "    pred_y = pred_y*(torch.Tensor([100,1,1000]).cuda())\n",
    "    val_prediction_extend.append(pred_y)\n",
    "    val_loss.append(loss.item())\n",
    "\n",
    "val_prediction_extend = torch.cat(val_prediction_extend, dim=0)[:,2]\n",
    "val_prediction_extend = val_prediction_extend.cpu().detach().numpy()\n",
    "val_loss = np.array(val_loss)\n",
    "print(val_loss.mean())\n",
    "\n",
    "\n",
    "val_loss = []\n",
    "val_prediction_mlp = []\n",
    "for batch in tqdm(test_dataloader_mlp):\n",
    "    batch_x, batch_y, = batch\n",
    "    batch_x = batch_x.cuda()\n",
    "    batch_y = batch_y.cuda()\n",
    "    pred_y = model_2(batch_x).squeeze(-1)\n",
    "    loss = nn.functional.l1_loss(pred_y, batch_y)\n",
    "    # rescale pred_y to the original scale\n",
    "    pred_y = pred_y*(torch.Tensor([100,1,1000]).cuda())\n",
    "    val_prediction_mlp.append(pred_y)\n",
    "    val_loss.append(loss.item())\n",
    "\n",
    "val_prediction_mlp = torch.cat(val_prediction_mlp, dim=0)[:,2]\n",
    "val_prediction_mlp = val_prediction_mlp.cpu().detach().numpy()\n",
    "val_loss = np.array(val_loss)\n",
    "print(val_loss.mean())"
   ]
  },
  {
   "cell_type": "code",
   "execution_count": null,
   "metadata": {},
   "outputs": [],
   "source": [
    "fig, (ax1,ax2,ax3) = plt.subplots(1,3, dpi=300)\n",
    "fig.suptitle(f'T1 Mapping', x = 0.56, y = 0.7)\n",
    "im = ax1.imshow(fitted_params.reshape(200,200,3)[:,:,2], vmin=200, vmax=2e3, cmap='jet')\n",
    "ax1.set_title('LS - T1 (ms)', y = -0.2)\n",
    "ax1.axis('off')\n",
    "\n",
    "plt.colorbar(im, fraction=0.040, pad=0.025)\n",
    "\n",
    "im = ax2.imshow(val_prediction_mlp.reshape(200,200), cmap='jet', vmin=200, vmax=2e3)\n",
    "ax2.axis('off')\n",
    "ax2.set_title('MLP - T1 (ms)', y = -0.2)\n",
    "plt.colorbar(im, fraction=0.040, pad=0.025)\n",
    "\n",
    "im = ax3.imshow(val_prediction.reshape(200,200), cmap='jet', vmin=200, vmax=2e3)\n",
    "ax3.axis('off')\n",
    "ax3.set_title('NCDE - T1 (ms)', y = -0.2)\n",
    "plt.colorbar(im, fraction=0.040, pad=0.025)\n",
    "\n",
    "fig.tight_layout()"
   ]
  },
  {
   "cell_type": "code",
   "execution_count": null,
   "metadata": {},
   "outputs": [],
   "source": [
    "fig, (ax1,ax2,ax3) = plt.subplots(1,3, dpi=300)\n",
    "fig.suptitle(f'T1 Mapping: First 5 Acquisitions', x = 0.56, y = 0.7)\n",
    "im = ax1.imshow(fitted_params.reshape(200,200,3)[:,:,2], vmin=200, vmax=2e3, cmap='jet')\n",
    "ax1.set_title('LS - T1 (ms)', y = -0.2)\n",
    "ax1.axis('off')\n",
    "\n",
    "plt.colorbar(im, fraction=0.040, pad=0.025)\n",
    "\n",
    "im = ax2.imshow(val_prediction_extend.reshape(200,200), cmap='jet', vmin=200, vmax=2e3)\n",
    "ax2.axis('off')\n",
    "ax2.set_title('NCDE - data extended - T1 (ms)', y = -0.2)\n",
    "plt.colorbar(im, fraction=0.040, pad=0.025)\n",
    "\n",
    "im = ax3.imshow(val_prediction.reshape(200,200), cmap='jet', vmin=200, vmax=2e3)\n",
    "ax3.axis('off')\n",
    "ax3.set_title('NCDE - T1 (ms)', y = -0.2)\n",
    "plt.colorbar(im, fraction=0.040, pad=0.025)\n",
    "\n",
    "fig.tight_layout()"
   ]
  },
  {
   "attachments": {},
   "cell_type": "markdown",
   "metadata": {},
   "source": [
    "# Irregular Observations"
   ]
  },
  {
   "cell_type": "code",
   "execution_count": null,
   "metadata": {},
   "outputs": [],
   "source": [
    "# Load Test Data and Label Data\n",
    "# test data loading\n",
    "#dat = loadmat('MAVI102_20151026_pre1.mat') \n",
    "\n",
    "image_name = 'MAVI103_20151030_pre1.mat'\n",
    "image_slice = 0\n",
    "\n",
    "data_Yi = loadmat_wrapper_Yi('/mnt/vol6t/Projects/NeuralCDE/T1_mapping/MOLLI4Yi/'+image_name,image_slice)\n",
    "\n",
    "X_test,time_tensor_unsorted,_ = get_data_stack(data_Yi)"
   ]
  },
  {
   "cell_type": "code",
   "execution_count": null,
   "metadata": {},
   "outputs": [],
   "source": [
    "# reference time for calculating the difference\n",
    "ref_t = torch.tensor([ 114., 1043, 1991,  232, 1187, 2145,  350, 1301, 2245, 3211, 4190])\n",
    "abs((time_tensor_unsorted - ref_t)).mean()"
   ]
  },
  {
   "cell_type": "code",
   "execution_count": null,
   "metadata": {},
   "outputs": [],
   "source": [
    "#X_test = torch.stack([time_tensor.unsqueeze(0).repeat(data_tensor.shape[0]* data_tensor.shape[1], 1), data_reshaped], dim=2)\n",
    "\n",
    "fitted_params = torch.Tensor(np.load(f'/mnt/vol6t/Projects/curve_fit/PyMC/output_data/{image_name}_slice_{image_slice}.npy'))\n",
    "fitted_params = fitted_params.reshape(-1, 3)\n",
    "######################\n",
    "# Validation\n",
    "######################\n",
    "test_X = X_test\n",
    "test_y = fitted_params\n",
    "test_X_norm = test_X/torch.Tensor([1000,100])\n",
    "#test_y_norm = test_y/torch.Tensor([100,1,1000])\n",
    "#test_time_norm = test_time/1000\n",
    "\n",
    "text_X_norm_mlp = test_X_norm.reshape(-1,22)\n",
    "print(text_X_norm_mlp.shape)\n",
    "model.eval()\n",
    "\n",
    "test_coeffs = torchcde.hermite_cubic_coefficients_with_backward_differences(test_X_norm)\n",
    "test_coeffs = test_coeffs.cuda()\n",
    "test_y = test_y.cuda()\n",
    "\n",
    "test_dataset = torch.utils.data.TensorDataset(test_coeffs, test_y)\n",
    "test_dataloader = torch.utils.data.DataLoader(test_dataset, batch_size=8192)\n",
    "\n",
    "test_dataset_mlp = torch.utils.data.TensorDataset(text_X_norm_mlp.cuda(), test_y)\n",
    "test_dataloader_mlp = torch.utils.data.DataLoader(test_dataset_mlp, batch_size=8192)\n",
    "\n",
    "val_loss = []\n",
    "val_prediction = []\n",
    "for batch in tqdm(test_dataloader):\n",
    "    batch_coeffs, batch_y, = batch\n",
    "    batch_coeffs = batch_coeffs.cuda()\n",
    "    batch_y = batch_y.cuda()\n",
    "    pred_y = model(batch_coeffs).squeeze(-1)\n",
    "    loss = nn.functional.l1_loss(pred_y, batch_y)\n",
    "    # rescale pred_y to the original scale\n",
    "    pred_y = pred_y*(torch.Tensor([100,1,1000]).cuda())\n",
    "    val_prediction.append(pred_y)\n",
    "    val_loss.append(loss.item())\n",
    "\n",
    "val_prediction = torch.cat(val_prediction, dim=0)[:,2]\n",
    "val_prediction = val_prediction.cpu().detach().numpy()\n",
    "val_loss = np.array(val_loss)\n",
    "print(val_loss.mean())\n",
    "\n",
    "val_loss = []\n",
    "val_prediction_mlp = []\n",
    "for batch in tqdm(test_dataloader_mlp):\n",
    "    batch_x, batch_y, = batch\n",
    "    batch_x = batch_x.cuda()\n",
    "    batch_y = batch_y.cuda()\n",
    "    pred_y = model_2(batch_x).squeeze(-1)\n",
    "    loss = nn.functional.l1_loss(pred_y, batch_y)\n",
    "    # rescale pred_y to the original scale\n",
    "    pred_y = pred_y*(torch.Tensor([100,1,1000]).cuda())\n",
    "    val_prediction_mlp.append(pred_y)\n",
    "    val_loss.append(loss.item())\n",
    "\n",
    "val_prediction_mlp = torch.cat(val_prediction_mlp, dim=0)[:,2]\n",
    "val_prediction_mlp = val_prediction_mlp.cpu().detach().numpy()\n",
    "val_loss = np.array(val_loss)\n",
    "print(val_loss.mean())"
   ]
  },
  {
   "cell_type": "code",
   "execution_count": null,
   "metadata": {},
   "outputs": [],
   "source": [
    "fig, (ax1,ax2,ax3) = plt.subplots(1,3, dpi=300)\n",
    "fig.suptitle(f'T1 Mapping', x = 0.56, y = 0.7)\n",
    "im = ax1.imshow(fitted_params.reshape(200,200,3)[:,:,2], vmin=200, vmax=2e3, cmap='jet')\n",
    "ax1.set_title('LS - T1 (ms)', y = -0.2)\n",
    "ax1.axis('off')\n",
    "\n",
    "plt.colorbar(im, fraction=0.040, pad=0.025)\n",
    "\n",
    "im = ax2.imshow(val_prediction_mlp.reshape(200,200), cmap='jet', vmin=200, vmax=2e3)\n",
    "ax2.axis('off')\n",
    "ax2.set_title('MLP - T1 (ms)', y = -0.2)\n",
    "plt.colorbar(im, fraction=0.040, pad=0.025)\n",
    "\n",
    "im = ax3.imshow(val_prediction.reshape(200,200), cmap='jet', vmin=200, vmax=2e3)\n",
    "ax3.axis('off')\n",
    "ax3.set_title('NCDE - T1 (ms)', y = -0.2)\n",
    "plt.colorbar(im, fraction=0.040, pad=0.025)\n",
    "\n",
    "fig.tight_layout()"
   ]
  },
  {
   "attachments": {},
   "cell_type": "markdown",
   "metadata": {},
   "source": [
    "# Motion"
   ]
  },
  {
   "attachments": {},
   "cell_type": "markdown",
   "metadata": {},
   "source": [
    "To simulate the motion, we need to work back on image for some frames before reshape them into a vector..."
   ]
  },
  {
   "cell_type": "code",
   "execution_count": null,
   "metadata": {},
   "outputs": [],
   "source": [
    "plt.imshow(data_tensor[:,:,0], cmap='gray')"
   ]
  },
  {
   "attachments": {},
   "cell_type": "markdown",
   "metadata": {},
   "source": [
    "We can then shift this frame with chosen direction and magnitude using affine function in pytorch"
   ]
  },
  {
   "cell_type": "code",
   "execution_count": null,
   "metadata": {},
   "outputs": [],
   "source": [
    "import torchvision"
   ]
  },
  {
   "cell_type": "code",
   "execution_count": null,
   "metadata": {},
   "outputs": [],
   "source": [
    "angle = 0\n",
    "translate = [10,10]\n",
    "torchvision.transforms.functional.affine(data_tensor[:,:,0],angle, translate,1,0)"
   ]
  },
  {
   "attachments": {},
   "cell_type": "markdown",
   "metadata": {},
   "source": [
    "# Random Sample"
   ]
  },
  {
   "cell_type": "code",
   "execution_count": null,
   "metadata": {},
   "outputs": [],
   "source": [
    "import random"
   ]
  },
  {
   "cell_type": "code",
   "execution_count": null,
   "metadata": {},
   "outputs": [],
   "source": [
    "t = torch.linspace(0, 1, 10)"
   ]
  },
  {
   "cell_type": "code",
   "execution_count": null,
   "metadata": {},
   "outputs": [],
   "source": [
    "perm = torch.randperm(t.size(0))\n",
    "print(perm)\n",
    "perm = perm[:torch.randint(3,11,(1,))]\n",
    "t_sampled = t[perm]\n",
    "print(t_sampled.sort()[0])"
   ]
  },
  {
   "cell_type": "code",
   "execution_count": null,
   "metadata": {},
   "outputs": [],
   "source": []
  },
  {
   "attachments": {},
   "cell_type": "markdown",
   "metadata": {},
   "source": [
    "# Quantitative Metrics: Myocardium"
   ]
  },
  {
   "cell_type": "code",
   "execution_count": null,
   "metadata": {},
   "outputs": [],
   "source": [
    "import glob"
   ]
  },
  {
   "cell_type": "code",
   "execution_count": null,
   "metadata": {},
   "outputs": [],
   "source": [
    "\n",
    "# generate inference data numpy\n",
    "data_root = '/mnt/vol6t/Projects/NeuralCDE/T1_mapping/registered_dataset'\n",
    "data_files = glob.glob(data_root + '/*pre*_org.pt')\n",
    "data = torch.load(data_files[16])\n",
    "masked_T1 = np.ma.masked_array(data['T1'], mask = 1-data['mask'].astype('int'), fill_value= 0)"
   ]
  },
  {
   "cell_type": "code",
   "execution_count": null,
   "metadata": {},
   "outputs": [],
   "source": [
    "fig, ax = plt.subplots()\n",
    "plt.imshow(masked_T1.filled(fill_value=0), cmap='jet', vmin=200, vmax=2e3)\n",
    "fig.set_facecolor('lightgray')\n",
    "plt.colorbar()"
   ]
  },
  {
   "cell_type": "code",
   "execution_count": null,
   "metadata": {},
   "outputs": [],
   "source": [
    "plt.imshow(data['T1'], cmap='jet', vmin=0, vmax=2000)\n",
    "plt.colorbar()\n",
    "x = [point[0] for point in data['outer_contour']]\n",
    "y = [point[1] for point in data['outer_contour']]\n",
    "\n",
    "# Plot the contour\n",
    "plt.plot(x, y)\n",
    "\n",
    "x = [point[0] for point in data['inner_contour']]\n",
    "y = [point[1] for point in data['inner_contour']]\n",
    "\n",
    "# Plot the contour\n",
    "plt.plot(x, y)"
   ]
  },
  {
   "cell_type": "code",
   "execution_count": null,
   "metadata": {},
   "outputs": [],
   "source": [
    "X_test,time_tensor_unsorted, data_reshaped = get_data_stack(data)"
   ]
  },
  {
   "cell_type": "code",
   "execution_count": null,
   "metadata": {},
   "outputs": [],
   "source": [
    "nonzero_indices = np.nonzero(data['T1'])\n",
    "top = np.min(nonzero_indices[0])\n",
    "bottom = np.max(nonzero_indices[0])\n",
    "left = np.min(nonzero_indices[1])\n",
    "right = np.max(nonzero_indices[1])\n",
    "height = bottom - top + 1\n",
    "width = right - left + 1\n",
    "\n",
    "# Compute the center crop dimensions\n",
    "crop_size = min(height, width)\n",
    "crop_top = top + (height - crop_size) // 2\n",
    "crop_bottom = crop_top + crop_size - 1\n",
    "crop_left = left + (width - crop_size) // 2\n",
    "crop_right = crop_left + crop_size - 1"
   ]
  },
  {
   "cell_type": "code",
   "execution_count": null,
   "metadata": {},
   "outputs": [],
   "source": [
    "#X_test = torch.stack([time_tensor.unsqueeze(0).repeat(data_tensor.shape[0]* data_tensor.shape[1], 1), data_reshaped], dim=2)\n",
    "\n",
    "fitted_params = torch.Tensor(data['T1'])\n",
    "fitted_params = fitted_params.reshape(-1)\n",
    "######################\n",
    "# Validation\n",
    "######################\n",
    "test_X = X_test\n",
    "test_y = fitted_params\n",
    "test_X_norm = test_X/torch.Tensor([1000,100])\n",
    "#test_y_norm = test_y/torch.Tensor([100,1,1000])\n",
    "#test_time_norm = test_time/1000\n",
    "\n",
    "text_X_norm_mlp = test_X_norm.reshape(-1,22)\n",
    "print(text_X_norm_mlp.shape)\n",
    "model.eval()\n",
    "\n",
    "test_coeffs = torchcde.hermite_cubic_coefficients_with_backward_differences(test_X_norm)\n",
    "test_coeffs = test_coeffs.cuda()\n",
    "test_y = test_y.cuda()\n",
    "\n",
    "test_dataset = torch.utils.data.TensorDataset(test_coeffs, test_y)\n",
    "test_dataloader = torch.utils.data.DataLoader(test_dataset, batch_size=8192)\n",
    "\n",
    "test_dataset_mlp = torch.utils.data.TensorDataset(text_X_norm_mlp.cuda(), test_y)\n",
    "test_dataloader_mlp = torch.utils.data.DataLoader(test_dataset_mlp, batch_size=8192)\n",
    "\n",
    "val_loss = []\n",
    "val_prediction = []\n",
    "for batch in tqdm(test_dataloader):\n",
    "    batch_coeffs, batch_y, = batch\n",
    "    batch_coeffs = batch_coeffs.cuda()\n",
    "    batch_y = batch_y.cuda()\n",
    "    pred_y = model(batch_coeffs).squeeze(-1)\n",
    "    loss = nn.functional.l1_loss(pred_y[:,2], batch_y)\n",
    "    # rescale pred_y to the original scale\n",
    "    pred_y = pred_y*(torch.Tensor([100,1,1000]).cuda())\n",
    "    val_prediction.append(pred_y)\n",
    "    val_loss.append(loss.item())\n",
    "\n",
    "val_prediction = torch.cat(val_prediction, dim=0)[:,2]\n",
    "val_prediction = val_prediction.cpu().detach().numpy()\n",
    "val_loss = np.array(val_loss)\n",
    "print(val_loss.mean())\n",
    "\n",
    "val_loss = []\n",
    "val_prediction_mlp = []\n",
    "for batch in tqdm(test_dataloader_mlp):\n",
    "    batch_x, batch_y, = batch\n",
    "    batch_x = batch_x.cuda()\n",
    "    batch_y = batch_y.cuda()\n",
    "    pred_y = model_2(batch_x).squeeze(-1)\n",
    "    loss = nn.functional.l1_loss(pred_y[:,2], batch_y)\n",
    "    # rescale pred_y to the original scale\n",
    "    pred_y = pred_y*(torch.Tensor([100,1,1000]).cuda())\n",
    "    val_prediction_mlp.append(pred_y)\n",
    "    val_loss.append(loss.item())\n",
    "\n",
    "val_prediction_mlp = torch.cat(val_prediction_mlp, dim=0)[:,2]\n",
    "val_prediction_mlp = val_prediction_mlp.cpu().detach().numpy()\n",
    "val_loss = np.array(val_loss)\n",
    "print(val_loss.mean())\n",
    "\n",
    "# arrange mask for visualization and real evaluation\n",
    "\n",
    "val_prediction_mlp = val_prediction_mlp.reshape(data['T1'].shape[0],data['T1'].shape[1])\n",
    "masked_mlp = np.ma.masked_array(val_prediction_mlp, mask = 1-data['T1'].astype('bool'), fill_value= 0)[crop_top:crop_bottom+1, crop_left:crop_right+1]\n",
    "masked_mlp_myo = np.ma.masked_array(val_prediction_mlp, mask = 1-data['mask'].astype('int'), fill_value= 0)[crop_top:crop_bottom+1, crop_left:crop_right+1]\n",
    "\n",
    "val_prediction = val_prediction.reshape(data['T1'].shape[0],data['T1'].shape[1])\n",
    "masked_ncde = np.ma.masked_array(val_prediction, mask = 1-data['T1'].astype('bool'), fill_value= 0)[crop_top:crop_bottom+1, crop_left:crop_right+1]\n",
    "masked_ncde_myo = np.ma.masked_array(val_prediction, mask = 1-data['mask'].astype('int'), fill_value= 0)[crop_top:crop_bottom+1, crop_left:crop_right+1]\n",
    "\n",
    "masked_T1_myo = np.ma.masked_array(data['T1'], mask = 1-data['mask'].astype('int'), fill_value= 0)[crop_top:crop_bottom+1, crop_left:crop_right+1]\n",
    "\n"
   ]
  },
  {
   "cell_type": "code",
   "execution_count": null,
   "metadata": {},
   "outputs": [],
   "source": [
    "nonzero_indices = np.nonzero(data['T1'])\n",
    "top = np.min(nonzero_indices[0])\n",
    "bottom = np.max(nonzero_indices[0])\n",
    "left = np.min(nonzero_indices[1])\n",
    "right = np.max(nonzero_indices[1])\n",
    "height = bottom - top + 1\n",
    "width = right - left + 1\n",
    "\n",
    "# Compute the center crop dimensions\n",
    "crop_size = min(height, width)\n",
    "crop_top = top + (height - crop_size) // 2\n",
    "crop_bottom = crop_top + crop_size - 1\n",
    "crop_left = left + (width - crop_size) // 2\n",
    "crop_right = crop_left + crop_size - 1\n",
    "\n",
    "# Crop the image\n",
    "#cropped_image = image[crop_top:crop_bottom+1, crop_left:crop_right+1]\n"
   ]
  },
  {
   "attachments": {},
   "cell_type": "markdown",
   "metadata": {},
   "source": [
    "## Metrics and Visualization"
   ]
  },
  {
   "cell_type": "code",
   "execution_count": null,
   "metadata": {},
   "outputs": [],
   "source": [
    "diff_myo_ls_mlp = abs(masked_mlp_myo - masked_T1_myo)\n",
    "diff_myo_ls_ncde = abs(masked_ncde_myo - masked_T1_myo)\n",
    "T1_ls_mean = masked_T1_myo.mean()\n",
    "T1_mlp_mean = masked_mlp_myo.mean()\n",
    "T1_ncde_mean = masked_ncde_myo.mean()\n",
    "T1_ls_sd = masked_T1_myo.std()\n",
    "T1_mlp_sd = masked_mlp_myo.std()\n",
    "T1_ncde_sd = masked_ncde_myo.std()\n",
    "print(T1_ls_mean, T1_mlp_mean, T1_ncde_mean)\n",
    "print(T1_ls_sd, T1_mlp_sd, T1_ncde_sd)"
   ]
  },
  {
   "cell_type": "code",
   "execution_count": null,
   "metadata": {},
   "outputs": [],
   "source": [
    "fig, (ax1,ax2,ax3) = plt.subplots(1,3, dpi=300)\n",
    "fig.suptitle(f'T1 Mapping - Myocardium Only - Contour2_org', y = 0.67)\n",
    "im = ax1.imshow(masked_T1_myo.filled(0), vmin=200, vmax=2e3, cmap='jet')\n",
    "ax1.set_title(f'LS - T1 (ms) \\n mean = {masked_T1_myo.mean():.2f}', y = -0.3, fontsize = 9)\n",
    "ax1.axis('off')\n",
    "\n",
    "plt.colorbar(im, fraction=0.045, pad=0.025)\n",
    "\n",
    "im = ax2.imshow(masked_mlp_myo.filled(0), cmap='jet', vmin=200, vmax=2e3)\n",
    "ax2.axis('off')\n",
    "ax2.set_title(f'MLP - T1 (ms) \\n mean = {masked_mlp_myo.mean():.2f}', y = -0.3, fontsize = 9)\n",
    "plt.colorbar(im, fraction=0.045, pad=0.025)\n",
    "\n",
    "im = ax3.imshow(masked_ncde_myo.filled(0), cmap='jet', vmin=200, vmax=2e3)\n",
    "ax3.axis('off')\n",
    "ax3.set_title(f'NCDE - T1 (ms) \\n mean = {masked_ncde_myo.mean():.2f}', y = -0.3, fontsize = 9)\n",
    "plt.colorbar(im, fraction=0.045, pad=0.025)\n",
    "\n",
    "fig.tight_layout()"
   ]
  },
  {
   "cell_type": "code",
   "execution_count": null,
   "metadata": {},
   "outputs": [],
   "source": [
    "fig, (ax1,ax2,ax3) = plt.subplots(1,3, dpi=300)\n",
    "fig.suptitle(f'T1 Mapping', y = 0.65)\n",
    "im = ax1.imshow(data['T1'][crop_top:crop_bottom+1, crop_left:crop_right+1], vmin=200, vmax=2e3, cmap='jet')\n",
    "x = [point[0]-crop_left for point in data['outer_contour']]\n",
    "y = [point[1]-crop_top for point in data['outer_contour']]\n",
    "\n",
    "# Plot the contour\n",
    "im1 = ax1.plot(x, y,color = 'green')\n",
    "\n",
    "x = [point[0]-crop_left for point in data['inner_contour']]\n",
    "y = [point[1]-crop_top for point in data['inner_contour']]\n",
    "\n",
    "# Plot the contour\n",
    "im2 = ax1.plot(x, y, color = 'red')\n",
    "ax1.set_title('LS - T1 (ms)', y = -0.2)\n",
    "ax1.axis('off')\n",
    "\n",
    "plt.colorbar(im, fraction=0.040, pad=0.025)\n",
    "\n",
    "im = ax2.imshow(masked_mlp.filled(0), cmap='jet', vmin=200, vmax=2e3)\n",
    "ax2.axis('off')\n",
    "ax2.set_title('MLP - T1 (ms)', y = -0.2)\n",
    "plt.colorbar(im, fraction=0.040, pad=0.025)\n",
    "\n",
    "im = ax3.imshow(masked_ncde.filled(0), cmap='jet', vmin=200, vmax=2e3)\n",
    "ax3.axis('off')\n",
    "ax3.set_title('NCDE - T1 (ms)', y = -0.2)\n",
    "plt.colorbar(im, fraction=0.040, pad=0.025)\n",
    "\n",
    "fig.tight_layout()"
   ]
  },
  {
   "cell_type": "code",
   "execution_count": null,
   "metadata": {},
   "outputs": [],
   "source": [
    "fig, (ax1,ax2,ax3) = plt.subplots(1,3, dpi=300)\n",
    "fig.suptitle(f'T1 Mapping Difference - Myocardium Only \\n', y = 0.65)\n",
    "im = ax1.imshow(masked_T1_myo.filled(0), vmin=200, vmax=2e3, cmap='jet')\n",
    "ax1.set_title(f'LS - T1 (ms) \\n mean = {masked_T1_myo.mean():.2f}', y = -0.3, fontsize = 9)\n",
    "ax1.axis('off')\n",
    "\n",
    "plt.colorbar(im, fraction=0.045, pad=0.025)\n",
    "\n",
    "im = ax2.imshow(masked_T1_myo.filled(0) - masked_mlp_myo.filled(0), cmap='RdBu', vmin=-200, vmax=200)\n",
    "ax2.axis('off')\n",
    "ax2.set_title(f'(MLP - LS) - T1 (ms) \\n MAE = {diff_myo_ls_mlp.mean():.2f}', y = -0.3, fontsize = 9)\n",
    "plt.colorbar(im, fraction=0.045, pad=0.025)\n",
    "\n",
    "im = ax3.imshow(masked_T1_myo.filled(0) - masked_ncde_myo.filled(0), cmap='RdBu', vmin=-200, vmax=200)\n",
    "ax3.axis('off')\n",
    "ax3.set_title(f'(NCDE - LS) - T1 (ms) \\n MAE = {diff_myo_ls_ncde.mean():.2f}', y = -0.3, fontsize = 9)\n",
    "plt.colorbar(im, fraction=0.045, pad=0.025)\n",
    "\n",
    "\n",
    "fig.tight_layout()"
   ]
  },
  {
   "attachments": {},
   "cell_type": "markdown",
   "metadata": {},
   "source": [
    "## Metrics - MAE, SD in region for Pre, Post, and ALL"
   ]
  },
  {
   "cell_type": "code",
   "execution_count": null,
   "metadata": {},
   "outputs": [],
   "source": [
    "import pandas as pd"
   ]
  },
  {
   "cell_type": "code",
   "execution_count": null,
   "metadata": {},
   "outputs": [],
   "source": [
    "# load metric data, separated by either pre or post contrast\n",
    "data_root = '/mnt/vol6t/Projects/NeuralCDE/T1_mapping/scripts/inference_results_org/T1_mapping_metrics'\n",
    "data_files_pre = glob.glob(data_root + '/*pre*.pt')\n",
    "pre_data = []\n",
    "for file in data_files_pre:\n",
    "    pre_data.append(torch.load(file))\n",
    "\n",
    "data_files_post = glob.glob(data_root + '/*post*.pt')\n",
    "post_data = []\n",
    "for file in data_files_post:\n",
    "    post_data.append(torch.load(file))\n",
    "\n",
    "pre_data_df = pd.DataFrame(pre_data)\n",
    "post_data_df = pd.DataFrame(post_data)\n",
    "pre_data_df.columns = ['MAE_ls_mlp', 'MAE_ls_ncde', 'LS_mean', 'MLP_mean', 'NCDE_mean', 'LS_sd', 'MLP_sd', 'NCDE_sd']\n",
    "post_data_df.columns = ['MAE_ls_mlp', 'MAE_ls_ncde', 'LS_mean', 'MLP_mean', 'NCDE_mean', 'LS_sd', 'MLP_sd', 'NCDE_sd']\n",
    "pre_data_df['file'] = data_files_pre\n",
    "pre_data_df['file'] = pre_data_df['file'].apply(lambda x: x.split('/')[-1].split('_')[0:6])\n",
    "post_data_df['file'] = data_files_post\n",
    "post_data_df['file'] = post_data_df['file'].apply(lambda x: x.split('/')[-1].split('_')[0:6])\n",
    "data_df = pd.concat([pre_data_df, post_data_df], axis=1)"
   ]
  },
  {
   "cell_type": "code",
   "execution_count": null,
   "metadata": {},
   "outputs": [],
   "source": [
    "plt.hist(pre_data_df['LS_mean'],bins = 20)"
   ]
  },
  {
   "cell_type": "code",
   "execution_count": null,
   "metadata": {},
   "outputs": [],
   "source": [
    "print(pre_data_df['MLP_sd'].mean(),pre_data_df['NCDE_sd'].mean())"
   ]
  },
  {
   "cell_type": "code",
   "execution_count": null,
   "metadata": {},
   "outputs": [],
   "source": [
    "# have to delete outliers introduced by LS...\n",
    "pre_data_filtered = pre_data_df[pre_data_df['LS_mean'] < 3000]\n",
    "pre_data_filtered = pre_data_filtered[pre_data_filtered['LS_mean'] > 100]\n",
    "print(len(pre_data_filtered))\n",
    "plt.hist(pre_data_filtered['LS_mean'],bins = 20)"
   ]
  },
  {
   "cell_type": "code",
   "execution_count": null,
   "metadata": {},
   "outputs": [],
   "source": [
    "import numpy as np\n",
    "import matplotlib.pyplot as plt\n",
    "\n",
    "def bland_altman_plot(data, x_col, y_col, title):\n",
    "    \"\"\"\n",
    "    Creates a detailed Bland-Altman plot using Matplotlib.\n",
    "    \n",
    "    Args:\n",
    "        data (pd.DataFrame): Pandas DataFrame containing the data to plot.\n",
    "        x_col (str): Name of the column containing the first measurement.\n",
    "        y_col (str): Name of the column containing the second measurement.\n",
    "        title (str): Title of the plot.\n",
    "    \"\"\"\n",
    "    # Calculate the mean and difference between measurements\n",
    "    mean = data[[x_col, y_col]].mean(axis=1)\n",
    "    diff = data[x_col] - data[y_col]\n",
    "    \n",
    "    # Calculate the limits of agreement\n",
    "    diff_mean = np.mean(diff)\n",
    "    diff_std = np.std(diff, ddof=1)\n",
    "    loa_upper = diff_mean + 1.96 * diff_std\n",
    "    loa_lower = diff_mean - 1.96 * diff_std\n",
    "    \n",
    "    # Create the plot\n",
    "    fig, ax = plt.subplots(dpi = 200)\n",
    "    ax.scatter(mean, diff, color='blue', alpha=0.5)\n",
    "    ax.axhline(diff_mean, color='gray', linestyle='--')\n",
    "    ax.axhline(loa_upper, color='gray', linestyle='--')\n",
    "    ax.axhline(loa_lower, color='gray', linestyle='--')\n",
    "    ax.text(0.05, 0.95, f'Mean difference: {diff_mean:.2f}\\nSD of difference: {diff_std:.2f}\\nLoA: [{loa_lower:.2f}, {loa_upper:.2f}]', transform=ax.transAxes, fontsize=12, verticalalignment='top')\n",
    "    ax.set_xlabel('Mean of measurements')\n",
    "    ax.set_ylabel('Difference between measurements')\n",
    "    ax.set_title(title)\n",
    "    \n",
    "    # Show the plot\n",
    "    plt.show()\n"
   ]
  },
  {
   "cell_type": "code",
   "execution_count": null,
   "metadata": {},
   "outputs": [],
   "source": [
    "sns.set_theme()"
   ]
  },
  {
   "cell_type": "code",
   "execution_count": null,
   "metadata": {},
   "outputs": [],
   "source": [
    "bland_altman_plot(pre_data_filtered, 'LS_mean', 'MLP_mean', 'Bland-Altman Plot - Pre Contrast - LS vs MLP') \n",
    "#plt.savefig('bland_altman_pre_ls_mlp.png', dpi = 200)"
   ]
  },
  {
   "cell_type": "code",
   "execution_count": null,
   "metadata": {},
   "outputs": [],
   "source": [
    "bland_altman_plot(pre_data_filtered, 'LS_mean', 'NCDE_mean', 'Bland-Altman Plot - Pre Contrast - LS vs NCDE') \n",
    "plt.savefig('bland_altman_pre_ls_ncde.png', dpi = 200)"
   ]
  },
  {
   "cell_type": "code",
   "execution_count": null,
   "metadata": {},
   "outputs": [],
   "source": [
    "bland_altman_plot(pre_data_filtered, 'MLP_mean', 'NCDE_mean', 'Bland-Altman Plot - Pre Contrast - MLP vs NCDE') \n",
    "plt.savefig('bland_altman_pre_ls_ncde.png', dpi = 200)"
   ]
  },
  {
   "cell_type": "code",
   "execution_count": null,
   "metadata": {},
   "outputs": [],
   "source": [
    "# have to delete outliers introduced by LS...\n",
    "post_data_filtered = post_data_df[post_data_df['LS_mean'] < 3000]\n",
    "post_data_filtered = post_data_filtered[post_data_filtered['LS_mean'] > 100]\n",
    "print(len(post_data_filtered))\n",
    "plt.hist(post_data_filtered['LS_mean'],bins = 20)\n",
    "plt.title('Post Contrast - LS - after filtering')"
   ]
  },
  {
   "cell_type": "code",
   "execution_count": null,
   "metadata": {},
   "outputs": [],
   "source": [
    "bland_altman_plot(post_data_filtered, 'LS_mean', 'MLP_mean', 'Bland-Altman Plot - Post Contrast - LS vs MLP')\n",
    "plt.savefig('bland_altman_post_ls_mlp.png', dpi = 200)"
   ]
  },
  {
   "cell_type": "code",
   "execution_count": null,
   "metadata": {},
   "outputs": [],
   "source": [
    "bland_altman_plot(post_data_filtered, 'LS_mean', 'NCDE_mean', 'Bland-Altman Plot - Post Contrast - LS vs NCDE')\n",
    "plt.savefig('bland_altman_post_ls_ncde.png', dpi = 200)"
   ]
  },
  {
   "cell_type": "code",
   "execution_count": null,
   "metadata": {},
   "outputs": [],
   "source": [
    "bland_altman_plot(post_data_filtered, 'MLP_mean', 'NCDE_mean', 'Bland-Altman Plot - Post Contrast - MLP vs NCDE')"
   ]
  },
  {
   "cell_type": "code",
   "execution_count": null,
   "metadata": {},
   "outputs": [],
   "source": [
    "# now for the whole dataset\n",
    "data_df = pd.concat([pre_data_df, post_data_df], axis=0)\n",
    "data_filtered = data_df[data_df['LS_mean'] < 3000]\n",
    "data_filtered = data_filtered[data_filtered['LS_mean'] > 100]\n",
    "print(len(data_filtered))\n",
    "plt.hist(data_filtered['LS_mean'],bins = 20)\n",
    "plt.title('LS - after filtering')"
   ]
  },
  {
   "cell_type": "code",
   "execution_count": null,
   "metadata": {},
   "outputs": [],
   "source": [
    "bland_altman_plot(data_filtered, 'LS_mean', 'MLP_mean', 'Bland-Altman Plot - LS vs MLP')\n",
    "plt.savefig('bland_altman_ls_mlp.png', dpi = 200)"
   ]
  },
  {
   "cell_type": "code",
   "execution_count": null,
   "metadata": {},
   "outputs": [],
   "source": [
    "bland_altman_plot(data_filtered, 'LS_mean', 'NCDE_mean', 'Bland-Altman Plot - LS vs NCDE')\n",
    "plt.savefig('bland_altman_ls_ncde.png', dpi = 200)"
   ]
  },
  {
   "cell_type": "code",
   "execution_count": null,
   "metadata": {},
   "outputs": [],
   "source": [
    "pre_data_filtered['LS_mean'].mean(), post_data_filtered['LS_mean'].mean(), data_filtered['LS_mean'].mean()"
   ]
  },
  {
   "cell_type": "code",
   "execution_count": null,
   "metadata": {},
   "outputs": [],
   "source": [
    "pre_data_filtered['MLP_mean'].mean(), post_data_filtered['MLP_mean'].mean(), data_filtered['MLP_mean'].mean()"
   ]
  },
  {
   "cell_type": "code",
   "execution_count": null,
   "metadata": {},
   "outputs": [],
   "source": [
    "pre_data_filtered['NCDE_mean'].mean(), post_data_filtered['NCDE_mean'].mean(), data_filtered['NCDE_mean'].mean()"
   ]
  },
  {
   "attachments": {},
   "cell_type": "markdown",
   "metadata": {},
   "source": [
    "# Rician Noise Simulator"
   ]
  },
  {
   "cell_type": "code",
   "execution_count": null,
   "metadata": {},
   "outputs": [],
   "source": [
    "X_test[20000]"
   ]
  },
  {
   "cell_type": "code",
   "execution_count": null,
   "metadata": {},
   "outputs": [],
   "source": [
    "import scipy\n",
    "import scipy.stats as st"
   ]
  },
  {
   "cell_type": "code",
   "execution_count": null,
   "metadata": {},
   "outputs": [],
   "source": [
    "A = 10.\n",
    "sigma = 5"
   ]
  },
  {
   "cell_type": "code",
   "execution_count": null,
   "metadata": {},
   "outputs": [],
   "source": [
    "scipy.special.i0(10*A/sigma**2)"
   ]
  },
  {
   "cell_type": "code",
   "execution_count": null,
   "metadata": {},
   "outputs": [],
   "source": [
    "import scipy.stats as st\n",
    "import numpy as np\n",
    "import matplotlib.pyplot as plt\n",
    "\n",
    "class RicianPDF(st.rv_continuous):\n",
    "    def _pdf(self, s, real_intensity, sigma):\n",
    "        self.real_intensity = real_intensity\n",
    "        self.sigma = sigma\n",
    "        return (s/sigma**2) * np.exp(-(s**2 + real_intensity**2)/(2*sigma**2)) * scipy.special.i0(s*real_intensity/sigma**2)\n"
   ]
  },
  {
   "cell_type": "code",
   "execution_count": null,
   "metadata": {},
   "outputs": [],
   "source": [
    "nmin = 0 \n",
    "my_cv = RicianPDF(a=nmin, name='RicianPDF')"
   ]
  },
  {
   "cell_type": "code",
   "execution_count": null,
   "metadata": {},
   "outputs": [],
   "source": [
    "N = 3000\n",
    "X = my_cv.rvs(real_intensity = 10, sigma = 3)"
   ]
  },
  {
   "cell_type": "code",
   "execution_count": null,
   "metadata": {},
   "outputs": [],
   "source": [
    "X"
   ]
  },
  {
   "cell_type": "code",
   "execution_count": null,
   "metadata": {},
   "outputs": [],
   "source": [
    "fig, axe = plt.subplots()\n",
    "n, bins, patches = axe.hist(X, 50,facecolor='green', alpha=0.75)\n",
    "plt.show(axe)"
   ]
  },
  {
   "cell_type": "code",
   "execution_count": null,
   "metadata": {},
   "outputs": [],
   "source": [
    "X.mean(), X.std()"
   ]
  },
  {
   "attachments": {},
   "cell_type": "markdown",
   "metadata": {},
   "source": [
    "# Generate data and save"
   ]
  },
  {
   "cell_type": "code",
   "execution_count": null,
   "metadata": {},
   "outputs": [],
   "source": [
    "X,y,time = get_data_seq(fixed = True, t_perturb = True, varying_length = True, dataset_size = 2000000, rician = True)"
   ]
  },
  {
   "attachments": {},
   "cell_type": "markdown",
   "metadata": {},
   "source": [
    "# Model Ensemble"
   ]
  },
  {
   "cell_type": "markdown",
   "metadata": {},
   "source": [
    "## Metrics - MAE, SD in region for Pre, Post, and ALL"
   ]
  },
  {
   "cell_type": "code",
   "execution_count": null,
   "metadata": {},
   "outputs": [],
   "source": [
    "import pandas as pd"
   ]
  },
  {
   "cell_type": "code",
   "execution_count": null,
   "metadata": {},
   "outputs": [],
   "source": [
    "# load metric data, separated by either pre or post contrast\n",
    "data_root = '/mnt/vol6t/Projects/NeuralCDE/T1_mapping/scripts/inference_results_org/T1_mapping_metrics'\n",
    "data_files_pre = glob.glob(data_root + '/*pre*ensemble_9*.pt')\n",
    "pre_data = []\n",
    "for file in data_files_pre:\n",
    "    pre_data.append(torch.load(file))\n",
    "\n",
    "data_files_post = glob.glob(data_root + '/*post*ensemble_9*.pt')\n",
    "post_data = []\n",
    "for file in data_files_post:\n",
    "    post_data.append(torch.load(file))\n",
    "\n",
    "pre_data_df = pd.DataFrame(pre_data)\n",
    "post_data_df = pd.DataFrame(post_data)\n",
    "pre_data_df.columns = ['MAE_ls_mlp', 'MAE_ls_ensemble', 'LS_mean', 'MLP_mean', 'ensemble_mean', 'LS_sd', 'MLP_sd', 'ensemble_sd']\n",
    "post_data_df.columns = ['MAE_ls_mlp', 'MAE_ls_ensemble', 'LS_mean', 'MLP_mean', 'ensemble_mean', 'LS_sd', 'MLP_sd', 'ensemble_sd']\n",
    "pre_data_df['file'] = data_files_pre\n",
    "pre_data_df['file'] = pre_data_df['file'].apply(lambda x: x.split('/')[-1].split('_')[0:6])\n",
    "post_data_df['file'] = data_files_post\n",
    "post_data_df['file'] = post_data_df['file'].apply(lambda x: x.split('/')[-1].split('_')[0:6])\n",
    "data_df = pd.concat([pre_data_df, post_data_df], axis=1)"
   ]
  },
  {
   "cell_type": "code",
   "execution_count": null,
   "metadata": {},
   "outputs": [],
   "source": [
    "plt.hist(pre_data_df['LS_mean'],bins = 20)\n",
    "plt.title('Pre Contrast - LS')"
   ]
  },
  {
   "cell_type": "code",
   "execution_count": null,
   "metadata": {},
   "outputs": [],
   "source": [
    "print(pre_data_df['MLP_sd'].mean(),pre_data_df['ensemble_sd'].mean())"
   ]
  },
  {
   "cell_type": "code",
   "execution_count": null,
   "metadata": {},
   "outputs": [],
   "source": [
    "# have to delete outliers introduced by LS...\n",
    "pre_data_filtered = pre_data_df[pre_data_df['LS_mean'] < 1600]\n",
    "pre_data_filtered = pre_data_filtered[pre_data_filtered['LS_mean'] > 900]\n",
    "print(len(pre_data_filtered))\n",
    "plt.hist(pre_data_filtered['LS_mean'],bins = 20)\n",
    "plt.title('Pre Contrast - LS - after filtering - T1 in [100,3000]')"
   ]
  },
  {
   "cell_type": "code",
   "execution_count": 52,
   "metadata": {},
   "outputs": [],
   "source": [
    "import numpy as np\n",
    "import matplotlib.pyplot as plt\n",
    "\n",
    "def bland_altman_plot(data, x_col, y_col, title):\n",
    "    \"\"\"\n",
    "    Creates a detailed Bland-Altman plot using Matplotlib.\n",
    "    \n",
    "    Args:\n",
    "        data (pd.DataFrame): Pandas DataFrame containing the data to plot.\n",
    "        x_col (str): Name of the column containing the first measurement.\n",
    "        y_col (str): Name of the column containing the second measurement.\n",
    "        title (str): Title of the plot.\n",
    "    \"\"\"\n",
    "    # Calculate the mean and difference between measurements\n",
    "    mean = data[[x_col, y_col]].mean(axis=1)\n",
    "    diff = data[x_col] - data[y_col]\n",
    "    \n",
    "    # Calculate the limits of agreement\n",
    "    diff_mean = np.mean(diff)\n",
    "    diff_std = np.std(diff, ddof=1)\n",
    "    loa_upper = diff_mean + 1.96 * diff_std\n",
    "    loa_lower = diff_mean - 1.96 * diff_std\n",
    "    \n",
    "    # Create the plot\n",
    "    fig, ax = plt.subplots(dpi = 200)\n",
    "    ax.scatter(mean, diff, color='blue', alpha=0.5)\n",
    "    ax.axhline(diff_mean, color='gray', linestyle='--')\n",
    "    ax.axhline(loa_upper, color='gray', linestyle='--')\n",
    "    ax.axhline(loa_lower, color='gray', linestyle='--')\n",
    "    ax.text(0.05, 0.95, f'Mean difference: {diff_mean:.2f}\\nSD of difference: {diff_std:.2f}\\nLoA: [{loa_lower:.2f}, {loa_upper:.2f}]', transform=ax.transAxes, fontsize=12, verticalalignment='top')\n",
    "    ax.set_xlabel('Mean of measurements')\n",
    "    ax.set_ylabel('Difference between measurements')\n",
    "    ax.set_title(title)\n",
    "    \n",
    "    # Show the plot\n",
    "    plt.show()\n"
   ]
  },
  {
   "cell_type": "code",
   "execution_count": null,
   "metadata": {},
   "outputs": [],
   "source": [
    "sns.set_theme()"
   ]
  },
  {
   "cell_type": "code",
   "execution_count": null,
   "metadata": {},
   "outputs": [],
   "source": [
    "bland_altman_plot(pre_data_filtered, 'LS_mean', 'MLP_mean', 'Bland-Altman Plot - Pre Contrast - LS vs MLP') \n",
    "plt.savefig('bland_altman_pre_ls_mlp.png', dpi = 200)"
   ]
  },
  {
   "cell_type": "code",
   "execution_count": null,
   "metadata": {},
   "outputs": [],
   "source": [
    "bland_altman_plot(pre_data_filtered, 'LS_mean', 'ensemble_mean', 'Bland-Altman Plot - Pre Contrast - LS vs ensemble') \n",
    "plt.savefig('bland_altman_pre_ls_ncde.png', dpi = 200)"
   ]
  },
  {
   "cell_type": "code",
   "execution_count": null,
   "metadata": {},
   "outputs": [],
   "source": [
    "bland_altman_plot(pre_data_filtered, 'MLP_mean', 'ensemble_mean', 'Bland-Altman Plot - Pre Contrast - MLP vs ensemble') \n",
    "plt.savefig('bland_altman_pre_ls_ncde.png', dpi = 200)"
   ]
  },
  {
   "cell_type": "code",
   "execution_count": null,
   "metadata": {},
   "outputs": [],
   "source": [
    "# have to delete outliers introduced by LS...\n",
    "post_data_filtered = post_data_df[post_data_df['LS_mean'] < 900]\n",
    "post_data_filtered = post_data_filtered[post_data_filtered['LS_mean'] > 200]\n",
    "print(len(post_data_filtered))\n",
    "plt.hist(post_data_filtered['LS_mean'],bins = 20)\n",
    "plt.title('Post Contrast - LS - after filtering')"
   ]
  },
  {
   "cell_type": "code",
   "execution_count": null,
   "metadata": {},
   "outputs": [],
   "source": [
    "bland_altman_plot(post_data_filtered, 'LS_mean', 'MLP_mean', 'Bland-Altman Plot - Post Contrast - LS vs MLP')\n",
    "plt.savefig('bland_altman_post_ls_mlp.png', dpi = 200)"
   ]
  },
  {
   "cell_type": "code",
   "execution_count": null,
   "metadata": {},
   "outputs": [],
   "source": [
    "bland_altman_plot(post_data_filtered, 'LS_mean', 'ensemble_mean', 'Bland-Altman Plot - Post Contrast - LS vs ensemble')\n",
    "plt.savefig('bland_altman_post_ls_ncde.png', dpi = 200)"
   ]
  },
  {
   "cell_type": "code",
   "execution_count": null,
   "metadata": {},
   "outputs": [],
   "source": [
    "bland_altman_plot(post_data_filtered, 'MLP_mean', 'ensemble_mean', 'Bland-Altman Plot - Post Contrast - MLP vs ensemble')"
   ]
  },
  {
   "cell_type": "code",
   "execution_count": null,
   "metadata": {},
   "outputs": [],
   "source": [
    "# now for the whole dataset\n",
    "data_df = pd.concat([pre_data_df, post_data_df], axis=0)\n",
    "data_filtered = data_df[data_df['LS_mean'] < 2000]\n",
    "data_filtered = data_filtered[data_filtered['LS_mean'] > 200]\n",
    "print(len(data_filtered))\n",
    "plt.hist(data_filtered['LS_mean'],bins = 20)\n",
    "plt.title('LS - after filtering')"
   ]
  },
  {
   "cell_type": "code",
   "execution_count": null,
   "metadata": {},
   "outputs": [],
   "source": [
    "bland_altman_plot(data_filtered, 'LS_mean', 'MLP_mean', 'Bland-Altman Plot - LS vs MLP')\n",
    "plt.savefig('bland_altman_ls_mlp.png', dpi = 200)"
   ]
  },
  {
   "cell_type": "code",
   "execution_count": null,
   "metadata": {},
   "outputs": [],
   "source": [
    "bland_altman_plot(data_filtered, 'LS_mean', 'ensemble_mean', 'Bland-Altman Plot - LS vs ensemble')\n",
    "plt.savefig('bland_altman_ls_ensemble.png', dpi = 200)"
   ]
  },
  {
   "cell_type": "code",
   "execution_count": null,
   "metadata": {},
   "outputs": [],
   "source": [
    "pre_data_filtered['LS_mean'].mean(), post_data_filtered['LS_mean'].mean(), data_filtered['LS_mean'].mean()"
   ]
  },
  {
   "cell_type": "code",
   "execution_count": null,
   "metadata": {},
   "outputs": [],
   "source": [
    "pre_data_filtered['MLP_mean'].mean(), post_data_filtered['MLP_mean'].mean(), data_filtered['MLP_mean'].mean()"
   ]
  },
  {
   "attachments": {},
   "cell_type": "markdown",
   "metadata": {},
   "source": [
    "We can first try using 5 models at the endpoint of training, of which has 2,000,000 datapoints (differently generated!)"
   ]
  },
  {
   "cell_type": "code",
   "execution_count": null,
   "metadata": {},
   "outputs": [],
   "source": [
    "import itertools\n",
    "models = []\n",
    "model_folder = ['run-20230510_170426-ulvn7r2r', 'run-20230510_170446-msfnyxdy', 'run-20230510_170517-f8n6xr61', 'run-20230510_170355-jytu3391']\n",
    "model_epochs = [16, 26, 36, 46, 56, 66, 76, 86, 96]\n",
    "model_paths = []\n",
    "for i,j in itertools.product(model_folder, model_epochs):\n",
    "    model_paths.append(f'/mnt/vol6t/Projects/NeuralCDE/T1_mapping/scripts/wandb/{i}/files/model_at_epoch_{j}.pt')\n",
    "\n",
    "for i, model_path in enumerate(model_paths):\n",
    "    print(i)\n",
    "    models.append( MLP(input_channels=22, hidden_channels=128, output_channels=3))\n",
    "    models[i] = models[i].cuda()\n",
    "    models[i].load_state_dict(torch.load(model_path))"
   ]
  },
  {
   "cell_type": "code",
   "execution_count": null,
   "metadata": {},
   "outputs": [],
   "source": [
    "models"
   ]
  },
  {
   "cell_type": "code",
   "execution_count": null,
   "metadata": {},
   "outputs": [],
   "source": [
    "import itertools\n",
    "models = []\n",
    "model_folder = ['run-20230515_152030-toba5m1z','run-20230515_184020-45p69r30','run-20230515_183956-4celg5pb','run-20230515_183927-ucm0utot']\n",
    "model_epochs = [16, 26, 36, 46, 56, 66, 76, 86, 96]\n",
    "model_paths = []\n",
    "for i,j in itertools.product(model_folder, model_epochs):\n",
    "    model_paths.append(f'/mnt/vol6t/Projects/NeuralCDE/T1_mapping/scripts/wandb/{i}/files/model_at_epoch_{j}.pt')\n",
    "\n",
    "for i, model_path in enumerate(model_paths):\n",
    "    print(i)\n",
    "    models.append( MLP_myomapnet(input_channels=22, hidden_channels=400, output_channels=3))\n",
    "    models[i] = models[i].cuda()\n",
    "    models[i].load_state_dict(torch.load(model_path))"
   ]
  },
  {
   "cell_type": "code",
   "execution_count": null,
   "metadata": {},
   "outputs": [],
   "source": [
    "# Test\n",
    "for i in range(10):\n",
    "    print('now the perturabation std is ', (i+1)*5)\n",
    "    data_reshaped_perturbed = data_reshaped + torch.randn_like(data_reshaped) * 5*(i+1)\n",
    "    #test_X = data_reshaped_perturbed\n",
    "    X_test = torch.stack([time_tensor.unsqueeze(0).repeat(data_tensor.shape[0]* data_tensor.shape[1], 1), data_reshaped_perturbed], dim=2)\n",
    "\n",
    "    fitted_params = torch.Tensor(np.load(f'/mnt/vol6t/Projects/curve_fit/PyMC/output_data_perturb/2980827_20140416_MOLLI_pre_groupwise.mat_slice_1_perturb_{5*(i+1)}.npy'))\n",
    "    fitted_params = fitted_params.reshape(-1, 3)\n",
    "    ######################\n",
    "    # Validation\n",
    "    ######################\n",
    "    test_X = X_test\n",
    "    test_y = fitted_params\n",
    "    test_X_norm = test_X/torch.Tensor([2000,200])\n",
    "    #test_y_norm = test_y/torch.Tensor([100,1,1000])\n",
    "    #test_time_norm = test_time/1000\n",
    "\n",
    "    model.eval()\n",
    "\n",
    "    test_coeffs = torchcde.hermite_cubic_coefficients_with_backward_differences(test_X_norm)\n",
    "    test_coeffs = test_coeffs.cuda()\n",
    "    test_y = test_y.cuda()\n",
    "    \n",
    "    test_dataset = torch.utils.data.TensorDataset(test_coeffs, test_y)\n",
    "    test_dataloader = torch.utils.data.DataLoader(test_dataset, batch_size=2048)\n",
    "\n",
    "    text_X_norm_mlp = test_X_norm.reshape(-1,22)\n",
    "    test_dataset_mlp = torch.utils.data.TensorDataset(text_X_norm_mlp.cuda(), test_y)\n",
    "    test_dataloader_mlp = torch.utils.data.DataLoader(test_dataset_mlp, batch_size=8192)\n",
    "\n",
    "\n",
    "\n",
    "    val_prediction_mlp_ensemble = []\n",
    "    for model_2 in models:\n",
    "        val_loss = []\n",
    "        val_prediction_mlp = []\n",
    "        for batch in tqdm(test_dataloader_mlp):\n",
    "            batch_x, batch_y, = batch\n",
    "            batch_x = batch_x.cuda()\n",
    "            batch_y = batch_y.cuda()\n",
    "            pred_y = model_2(batch_x).squeeze(-1)\n",
    "            loss = nn.functional.l1_loss(pred_y, batch_y)\n",
    "            # rescale pred_y to the original scale\n",
    "            pred_y = pred_y*(torch.Tensor([100,1,1000]).cuda())\n",
    "            val_prediction_mlp.append(pred_y)\n",
    "            val_loss.append(loss.item())\n",
    "        val_prediction_mlp = torch.cat(val_prediction_mlp, dim=0)[:,2]\n",
    "        val_prediction_mlp = val_prediction_mlp.cpu().detach().numpy()\n",
    "        val_prediction_mlp_ensemble.append(val_prediction_mlp)\n",
    "    ######################\n",
    "    # Plotting\n",
    "    ######################\n",
    "    fig, (ax1,ax2,ax3) = plt.subplots(1,3, dpi=300)\n",
    "    fig.suptitle(f'T1 Mapping at Gaussian Noise Level {(i+1)*5}', x = 0.56, y = 0.72)\n",
    "    im = ax1.imshow(fitted_params.reshape(256,256,3)[:,:,2], vmin=200, vmax=2e3, cmap='jet')\n",
    "    ax1.set_title('LS - T1 (ms)', y = -0.2)\n",
    "    ax1.axis('off')\n",
    "\n",
    "    plt.colorbar(im, fraction=0.040, pad=0.025)\n",
    "\n",
    "    im = ax2.imshow(val_prediction_mlp.reshape(256,256), cmap='jet', vmin=200, vmax=2e3)\n",
    "    ax2.axis('off')\n",
    "    ax2.set_title('MLP - T1 (ms)', y = -0.2)\n",
    "    plt.colorbar(im, fraction=0.040, pad=0.025)\n",
    "\n",
    "    im = ax3.imshow(np.mean(val_prediction_mlp_ensemble, axis = 0).reshape(256,256), cmap='jet', vmin=200, vmax=2e3)\n",
    "    ax3.axis('off')\n",
    "    ax3.set_title('Ensemble - T1 (ms)', y = -0.2)\n",
    "    plt.colorbar(im, fraction=0.040, pad=0.025)\n",
    "\n",
    "\n",
    "    fig.tight_layout()\n",
    "    #plt.show()\n",
    "    plt.savefig(f'/mnt/vol6t/Projects/NeuralCDE/T1_mapping/figures/noise_gaussian/MAVI102_20151026_pre1.mat_slice_1_perturb_{5*(i+1)}_myomapnet.png')\n",
    "\n",
    "    #plt.savefig(f'/figures/{image_name}_perturb_{(i+1)*5}.png')\n",
    "    #plt.close()\n",
    "    val_loss = np.array(val_loss)\n",
    "    ######################\n",
    "    # Logging\n",
    "    ######################\n",
    "\n",
    "    #wandb.log({'validation_figure_with_noisy_signals': fig})\n",
    "    #wandb.log({\"noise_level\": i})\n",
    "\n",
    "\n",
    "    #torch.save(model.state_dict(), f'./model_{epoch}.pth')"
   ]
  },
  {
   "cell_type": "code",
   "execution_count": null,
   "metadata": {},
   "outputs": [],
   "source": [
    "np.mean(val_prediction_mlp_ensemble, axis = 0)"
   ]
  },
  {
   "cell_type": "code",
   "execution_count": 54,
   "metadata": {},
   "outputs": [],
   "source": [
    "import glob"
   ]
  },
  {
   "cell_type": "code",
   "execution_count": 88,
   "metadata": {},
   "outputs": [],
   "source": [
    "\n",
    "# generate inference data numpy - now we have the perturbed data\n",
    "data_root = '/mnt/vol6t/Projects/NeuralCDE/T1_mapping/registered_dataset'\n",
    "data_files = glob.glob(data_root + '/6263556_20131023_MOLLI_pre_groupwise_slice1_org.pt')\n",
    "data = torch.load(data_files[0])\n",
    "masked_T1 = np.ma.masked_array(data['T1'], mask = 1-data['mask'].astype('int'), fill_value= 0)"
   ]
  },
  {
   "cell_type": "code",
   "execution_count": 89,
   "metadata": {},
   "outputs": [
    {
     "data": {
      "text/plain": [
       "3417.030993999717"
      ]
     },
     "execution_count": 89,
     "metadata": {},
     "output_type": "execute_result"
    }
   ],
   "source": [
    "masked_T1.max()"
   ]
  },
  {
   "cell_type": "code",
   "execution_count": 97,
   "metadata": {},
   "outputs": [
    {
     "data": {
      "text/plain": [
       "3417.030993999717"
      ]
     },
     "execution_count": 97,
     "metadata": {},
     "output_type": "execute_result"
    }
   ],
   "source": [
    "data['T1'][106,146]"
   ]
  },
  {
   "cell_type": "code",
   "execution_count": 95,
   "metadata": {},
   "outputs": [],
   "source": [
    "max_pos = np.unravel_index(np.argmax(masked_T1), masked_T1.shape)"
   ]
  },
  {
   "cell_type": "code",
   "execution_count": 96,
   "metadata": {},
   "outputs": [
    {
     "data": {
      "text/plain": [
       "(106, 146)"
      ]
     },
     "execution_count": 96,
     "metadata": {},
     "output_type": "execute_result"
    }
   ],
   "source": [
    "max_pos"
   ]
  },
  {
   "cell_type": "code",
   "execution_count": 91,
   "metadata": {},
   "outputs": [
    {
     "data": {
      "text/plain": [
       "dict_keys(['volume', 'tvec', 'T1', 'sd_t', 'outer_contour', 'inner_contour', 'mask'])"
      ]
     },
     "execution_count": 91,
     "metadata": {},
     "output_type": "execute_result"
    }
   ],
   "source": [
    "data.keys()"
   ]
  },
  {
   "cell_type": "code",
   "execution_count": 92,
   "metadata": {},
   "outputs": [
    {
     "data": {
      "text/plain": [
       "<matplotlib.colorbar.Colorbar at 0x7fd0cce84880>"
      ]
     },
     "execution_count": 92,
     "metadata": {},
     "output_type": "execute_result"
    },
    {
     "data": {
      "image/png": "[encoded data removed]",
      "text/plain": [
       "<Figure size 640x480 with 2 Axes>"
      ]
     },
     "metadata": {},
     "output_type": "display_data"
    }
   ],
   "source": [
    "fig, ax = plt.subplots()\n",
    "plt.imshow(masked_T1.filled(fill_value=0), cmap='jet', vmin=200, vmax=2e3)\n",
    "fig.set_facecolor('lightgray')\n",
    "plt.colorbar()"
   ]
  },
  {
   "cell_type": "code",
   "execution_count": 86,
   "metadata": {},
   "outputs": [
    {
     "data": {
      "text/plain": [
       "[<matplotlib.lines.Line2D at 0x7fd0ccd1f5e0>]"
      ]
     },
     "execution_count": 86,
     "metadata": {},
     "output_type": "execute_result"
    },
    {
     "data": {
      "image/png": "[encoded data removed]",
      "text/plain": [
       "<Figure size 640x480 with 2 Axes>"
      ]
     },
     "metadata": {},
     "output_type": "display_data"
    }
   ],
   "source": [
    "plt.imshow(data['T1'], cmap='jet', vmin=0, vmax=2000)\n",
    "plt.colorbar()\n",
    "x = [point[0] for point in data['outer_contour']]\n",
    "y = [point[1] for point in data['outer_contour']]\n",
    "\n",
    "# Plot the contour\n",
    "plt.plot(x, y)\n",
    "\n",
    "x = [point[0] for point in data['inner_contour']]\n",
    "y = [point[1] for point in data['inner_contour']]\n",
    "\n",
    "# Plot the contour\n",
    "plt.plot(x, y)"
   ]
  },
  {
   "cell_type": "code",
   "execution_count": 124,
   "metadata": {},
   "outputs": [],
   "source": [
    "X_test,time_tensor_unsorted, data_reshaped = get_data_stack(data)\n",
    "nonzero_indices = np.nonzero(data['T1'])\n",
    "top = np.min(nonzero_indices[0])\n",
    "bottom = np.max(nonzero_indices[0])\n",
    "left = np.min(nonzero_indices[1])\n",
    "right = np.max(nonzero_indices[1])\n",
    "height = bottom - top + 1\n",
    "width = right - left + 1\n",
    "\n",
    "# Compute the center crop dimensions\n",
    "crop_size = min(height, width)\n",
    "crop_top = top + (height - crop_size) // 2\n",
    "crop_bottom = crop_top + crop_size - 1\n",
    "crop_left = left + (width - crop_size) // 2\n",
    "crop_right = crop_left + crop_size - 1"
   ]
  },
  {
   "cell_type": "code",
   "execution_count": 126,
   "metadata": {},
   "outputs": [
    {
     "data": {
      "text/plain": [
       "torch.Size([57600, 11])"
      ]
     },
     "execution_count": 126,
     "metadata": {},
     "output_type": "execute_result"
    }
   ],
   "source": [
    "data_reshaped.shape"
   ]
  },
  {
   "cell_type": "code",
   "execution_count": 127,
   "metadata": {},
   "outputs": [
    {
     "ename": "IndexError",
     "evalue": "tuple index out of range",
     "output_type": "error",
     "traceback": [
      "\u001b[0;31m---------------------------------------------------------------------------\u001b[0m",
      "\u001b[0;31mIndexError\u001b[0m                                Traceback (most recent call last)",
      "Cell \u001b[0;32mIn[127], line 1\u001b[0m\n\u001b[0;32m----> 1\u001b[0m X_test \u001b[39m=\u001b[39m torch\u001b[39m.\u001b[39mstack([time_tensor\u001b[39m.\u001b[39munsqueeze(\u001b[39m0\u001b[39m)\u001b[39m.\u001b[39mrepeat(data_tensor\u001b[39m.\u001b[39mshape[\u001b[39m0\u001b[39m]\u001b[39m*\u001b[39m data_tensor\u001b[39m.\u001b[39;49mshape[\u001b[39m1\u001b[39;49m], \u001b[39m1\u001b[39m), data_reshaped_perturbed], dim\u001b[39m=\u001b[39m\u001b[39m2\u001b[39m)\n",
      "\u001b[0;31mIndexError\u001b[0m: tuple index out of range"
     ]
    }
   ],
   "source": [
    "X_test = torch.stack([time_tensor.unsqueeze(0).repeat(data_tensor.shape[0]* data_tensor.shape[1], 1), data_reshaped_perturbed], dim=2)\n"
   ]
  },
  {
   "cell_type": "code",
   "execution_count": 128,
   "metadata": {},
   "outputs": [
    {
     "data": {
      "text/plain": [
       "torch.Size([57600, 11, 2])"
      ]
     },
     "execution_count": 128,
     "metadata": {},
     "output_type": "execute_result"
    }
   ],
   "source": [
    "X_test.shape"
   ]
  },
  {
   "cell_type": "code",
   "execution_count": null,
   "metadata": {},
   "outputs": [],
   "source": [
    "#X_test = torch.stack([time_tensor.unsqueeze(0).repeat(data_tensor.shape[0]* data_tensor.shape[1], 1), data_reshaped], dim=2)\n",
    "i = 1\n",
    "print('now the perturabation std is ', (i+1)*5)\n",
    "data_reshaped_perturbed = data_reshaped + torch.randn_like(data_reshaped) * 5*(i+1)\n",
    "#test_X = data_reshaped_perturbed\n",
    "X_test = torch.stack([time_tensor.unsqueeze(0).repeat(data_tensor.shape[0]* data_tensor.shape[1], 1), data_reshaped_perturbed], dim=2)\n",
    "\n",
    "fitted_params = torch.Tensor(np.load(f'/mnt/vol6t/Projects/curve_fit/PyMC/output_data_perturb/2980827_20140416_MOLLI_pre_groupwise.mat_slice_1_perturb_{5*(i+1)}.npy'))\n",
    "fitted_params = fitted_params.reshape(-1, 3)\n",
    "######################\n",
    "# Validation\n",
    "######################\n",
    "test_X = X_test\n",
    "test_y = fitted_params\n",
    "test_X_norm = test_X/torch.Tensor([2000,200])\n",
    "#test_y_norm = test_y/torch.Tensor([100,1,1000])\n",
    "#test_time_norm = test_time/1000\n",
    "\n",
    "model.eval()\n",
    "\n",
    "test_coeffs = torchcde.hermite_cubic_coefficients_with_backward_differences(test_X_norm)\n",
    "test_coeffs = test_coeffs.cuda()\n",
    "test_y = test_y.cuda()\n",
    "\n",
    "test_dataset = torch.utils.data.TensorDataset(test_coeffs, test_y)\n",
    "test_dataloader = torch.utils.data.DataLoader(test_dataset, batch_size=2048)\n",
    "\n",
    "text_X_norm_mlp = test_X_norm.reshape(-1,22)\n",
    "test_dataset_mlp = torch.utils.data.TensorDataset(text_X_norm_mlp.cuda(), test_y)\n",
    "test_dataloader_mlp = torch.utils.data.DataLoader(test_dataset_mlp, batch_size=65536)\n",
    "\n",
    "\n",
    "\n",
    "val_prediction_mlp_ensemble = []\n",
    "for model_2 in models:\n",
    "    model_2.eval()\n",
    "    val_loss = []\n",
    "    val_prediction_mlp = []\n",
    "    for batch in tqdm(test_dataloader_mlp):\n",
    "        batch_x, batch_y, = batch\n",
    "        batch_x = batch_x.cuda()\n",
    "        batch_y = batch_y.cuda()\n",
    "        pred_y = model_2(batch_x).squeeze(-1)\n",
    "        loss = nn.functional.l1_loss(pred_y, batch_y)\n",
    "        # rescale pred_y to the original scale\n",
    "        pred_y = pred_y*(torch.Tensor([100,1,1000]).cuda())\n",
    "        val_prediction_mlp.append(pred_y)\n",
    "        val_loss.append(loss.item())\n",
    "    val_prediction_mlp = torch.cat(val_prediction_mlp, dim=0)[:,2]\n",
    "    val_prediction_mlp = val_prediction_mlp.cpu().detach().numpy()\n",
    "    val_prediction_mlp_ensemble.append(val_prediction_mlp)\n",
    "\n",
    "val_prediction_mlp_ensemble = np.mean(val_prediction_mlp_ensemble, axis = 0)\n",
    "\n",
    "val_loss = np.array(val_loss)\n",
    "print(val_loss.mean())\n",
    "\n",
    "######################\n",
    "# Plotting\n",
    "######################\n",
    "fig, (ax1,ax2,ax3) = plt.subplots(1,3, dpi=300)\n",
    "fig.suptitle(f'T1 Mapping at Gaussian Noise Level {(i+1)*5}', x = 0.56, y = 0.72)\n",
    "im = ax1.imshow(fitted_params.reshape(256,256,3)[:,:,2], vmin=200, vmax=2e3, cmap='jet')\n",
    "ax1.set_title('LS - T1 (ms)', y = -0.2)\n",
    "ax1.axis('off')\n",
    "\n",
    "plt.colorbar(im, fraction=0.040, pad=0.025)\n",
    "\n",
    "im = ax2.imshow(val_prediction_mlp.reshape(256,256), cmap='jet', vmin=200, vmax=2e3)\n",
    "ax2.axis('off')\n",
    "ax2.set_title('MLP - T1 (ms)', y = -0.2)\n",
    "plt.colorbar(im, fraction=0.040, pad=0.025)\n",
    "\n",
    "im = ax3.imshow(val_prediction_mlp_ensemble.reshape(256,256), cmap='jet', vmin=200, vmax=2e3)\n",
    "ax3.axis('off')\n",
    "ax3.set_title('MLP - mean over 5 ckpts - T1 (ms)', y = -0.2)\n",
    "plt.colorbar(im, fraction=0.040, pad=0.025)\n",
    "\n",
    "# arrange mask for visualization and real evaluation\n",
    "\n",
    "val_prediction_mlp = val_prediction_mlp.reshape(data['T1'].shape[0],data['T1'].shape[1])\n",
    "masked_mlp = np.ma.masked_array(val_prediction_mlp, mask = 1-data['T1'].astype('bool'), fill_value= 0)[crop_top:crop_bottom+1, crop_left:crop_right+1]\n",
    "masked_mlp_myo = np.ma.masked_array(val_prediction_mlp, mask = 1-data['mask'].astype('int'), fill_value= 0)[crop_top:crop_bottom+1, crop_left:crop_right+1]\n",
    "\n",
    "val_prediction_mlp_ensemble = val_prediction_mlp_ensemble.reshape(data['T1'].shape[0],data['T1'].shape[1])\n",
    "masked_ensemble = np.ma.masked_array(val_prediction_mlp_ensemble, mask = 1-data['T1'].astype('bool'), fill_value= 0)[crop_top:crop_bottom+1, crop_left:crop_right+1]\n",
    "masked_ensemble_myo = np.ma.masked_array(val_prediction_mlp_ensemble, mask = 1-data['mask'].astype('int'), fill_value= 0)[crop_top:crop_bottom+1, crop_left:crop_right+1]\n",
    "\n",
    "masked_T1_myo = np.ma.masked_array(data['T1'], mask = 1-data['mask'].astype('int'), fill_value= 0)[crop_top:crop_bottom+1, crop_left:crop_right+1]\n",
    "\n",
    "masked_T1_myo_perturb = np.ma.masked_array(fitted_params[:,2].reshape(data['T1'].shape[0],data['T1'].shape[1]), mask = 1-data['mask'].astype('int'), fill_value= 0)[crop_top:crop_bottom+1, crop_left:crop_right+1]\n",
    "\n",
    "\n",
    "diff_myo_ls_mlp = abs(masked_mlp_myo - masked_T1_myo)\n",
    "diff_myo_ls_ensemble = abs(masked_ensemble_myo - masked_T1_myo)\n",
    "diff_myo_ls_self_perturb = abs(masked_T1_myo_perturb - masked_T1_myo)\n",
    "\n",
    "T1_ls_mean = masked_T1_myo.mean()\n",
    "T1_ls_perturb_mean = masked_T1_myo_perturb.mean()\n",
    "T1_mlp_mean = masked_mlp_myo.mean()\n",
    "T1_ensemble_mean = masked_ensemble_myo.mean()\n",
    "T1_ls_sd = masked_T1_myo.std()\n",
    "T1_ls_perturb_sd = masked_T1_myo_perturb.std()\n",
    "T1_mlp_sd = masked_mlp_myo.std()\n",
    "T1_ensemble_sd = masked_ensemble_myo.std()\n",
    "print(diff_myo_ls_self_perturb.mean(),diff_myo_ls_mlp.mean(), diff_myo_ls_ensemble.mean())\n",
    "print(T1_ls_mean, T1_ls_perturb_mean, T1_mlp_mean, T1_ensemble_mean)\n",
    "print(T1_ls_sd, T1_ls_perturb_sd,T1_mlp_sd, T1_ensemble_sd)"
   ]
  },
  {
   "cell_type": "code",
   "execution_count": null,
   "metadata": {},
   "outputs": [],
   "source": [
    "masked_ensemble_myo.compressed()[masked_ensemble_myo.compressed()<2000].std()"
   ]
  },
  {
   "cell_type": "code",
   "execution_count": null,
   "metadata": {},
   "outputs": [],
   "source": [
    "fig, (ax1,ax2,ax3) = plt.subplots(1,3, dpi=300)\n",
    "fig.suptitle(f'T1 Mapping at Gaussian Noise Level {(i+1)*5}', x = 0.56, y = 0.72)\n",
    "im = ax1.imshow(fitted_params.reshape(256,256,3)[:,:,2], vmin=200, vmax=2e3, cmap='jet')\n",
    "ax1.set_title('LS - T1 (ms)', y = -0.2)\n",
    "ax1.axis('off')\n",
    "\n",
    "plt.colorbar(im, fraction=0.040, pad=0.025)\n",
    "\n",
    "im = ax2.imshow(val_prediction_mlp.reshape(256,256), cmap='jet', vmin=200, vmax=2e3)\n",
    "ax2.axis('off')\n",
    "ax2.set_title('MLP - T1 (ms)', y = -0.2)\n",
    "plt.colorbar(im, fraction=0.040, pad=0.025)\n",
    "\n",
    "im = ax3.imshow(val_prediction_mlp_ensemble.reshape(256,256), cmap='jet', vmin=200, vmax=2e3)\n",
    "ax3.axis('off')\n",
    "ax3.set_title('MLP - mean over 5 ckpts - T1 (ms)', y = -0.2)\n",
    "plt.colorbar(im, fraction=0.040, pad=0.025)"
   ]
  },
  {
   "cell_type": "code",
   "execution_count": null,
   "metadata": {},
   "outputs": [],
   "source": [
    "print(masked_T1_myo.max(),masked_T1_myo_perturb.max())"
   ]
  },
  {
   "cell_type": "code",
   "execution_count": null,
   "metadata": {},
   "outputs": [],
   "source": [
    "print(np.mean(masked_T1_myo[masked_T1_myo<3000]), np.mean(masked_T1_myo_perturb[masked_T1_myo_perturb<3000]))"
   ]
  },
  {
   "cell_type": "code",
   "execution_count": null,
   "metadata": {},
   "outputs": [],
   "source": [
    "masked_T1_myo.compressed()[masked_T1_myo.compressed()<3000].std()"
   ]
  },
  {
   "cell_type": "code",
   "execution_count": null,
   "metadata": {},
   "outputs": [],
   "source": [
    "masked_ensemble_myo.compressed()[masked_ensemble_myo.compressed()<3000].std()"
   ]
  },
  {
   "cell_type": "code",
   "execution_count": null,
   "metadata": {},
   "outputs": [],
   "source": [
    "# The average may not be objective - need to mask again...:\n",
    "sns.set_theme()\n",
    "plt.hist(masked_T1_myo[masked_T1_myo<100000], bins = 100, alpha = 0.5, label = 'T1 LS')"
   ]
  },
  {
   "cell_type": "code",
   "execution_count": null,
   "metadata": {},
   "outputs": [],
   "source": [
    "fig, (ax0,ax1,ax2,ax3) = plt.subplots(1,4, dpi=300)\n",
    "fig.suptitle(f'T1 Mapping - Noise Level {(i+1)*5} - Myocardium Only', y = 0.67)\n",
    "im = ax0.imshow(masked_T1_myo.filled(0), vmin=200, vmax=2e3, cmap='jet')\n",
    "ax0.set_title(f'Original - T1 (ms) \\n mean = {masked_T1_myo.mean():.2f}', y = -0.5, fontsize = 9)\n",
    "ax0.axis('off')\n",
    "\n",
    "plt.colorbar(im, fraction=0.045, pad=0.025)\n",
    "\n",
    "im = ax1.imshow(masked_T1_myo_perturb.filled(0), vmin=200, vmax=2e3, cmap='jet')\n",
    "ax1.set_title(f'LS - T1 (ms) \\n mean = {masked_T1_myo_perturb.mean():.2f}', y = -0.5, fontsize = 9)\n",
    "ax1.axis('off')\n",
    "\n",
    "plt.colorbar(im, fraction=0.045, pad=0.025)\n",
    "\n",
    "im = ax2.imshow(masked_mlp_myo.filled(0), cmap='jet', vmin=200, vmax=2e3)\n",
    "ax2.axis('off')\n",
    "ax2.set_title(f'MLP - T1 (ms) \\n mean = {masked_mlp_myo.mean():.2f}', y = -0.5, fontsize = 9)\n",
    "plt.colorbar(im, fraction=0.045, pad=0.025)\n",
    "\n",
    "im = ax3.imshow(masked_ensemble_myo.filled(0), cmap='jet', vmin=200, vmax=2e3)\n",
    "ax3.axis('off')\n",
    "ax3.set_title(f'Ensemble - T1 (ms) \\n mean = {masked_ensemble_myo.mean():.2f}', y = -0.5, fontsize = 9)\n",
    "plt.colorbar(im, fraction=0.045, pad=0.025)\n",
    "\n",
    "fig.tight_layout()"
   ]
  },
  {
   "cell_type": "code",
   "execution_count": null,
   "metadata": {},
   "outputs": [],
   "source": [
    "fig, (ax1,ax2,ax3) = plt.subplots(1,3, dpi=300)\n",
    "fig.suptitle(f'T1 Mapping Difference - Noise Level {(i+1)*5} - Myocardium Only \\n', y = 0.7)\n",
    "'''\n",
    "im = ax0.imshow(masked_T1_myo.filled(0), vmin=200, vmax=2e3, cmap='jet')\n",
    "ax0.set_title(f'LS - T1 (ms) \\n mean = {masked_T1_myo.mean():.2f}', y = -0.3, fontsize = 9)\n",
    "ax0.axis('off')\n",
    "plt.colorbar(im, fraction=0.045, pad=0.025)\n",
    "'''\n",
    "extent = 100\n",
    "im = ax1.imshow(-(masked_T1_myo.filled(0) - masked_T1_myo_perturb.filled(0)), cmap='RdBu', vmin=-extent, vmax=extent)\n",
    "ax1.set_title(f'(LS_perturb - LS ) - T1 (ms) \\n MAE = {diff_myo_ls_self_perturb.mean():.2f}', y = -0.3, fontsize = 9)\n",
    "ax1.axis('off')\n",
    "\n",
    "plt.colorbar(im, fraction=0.045, pad=0.025)\n",
    "\n",
    "im = ax2.imshow(-(masked_T1_myo.filled(0) - masked_mlp_myo.filled(0)), cmap='RdBu', vmin=-extent, vmax=extent)\n",
    "ax2.axis('off')\n",
    "ax2.set_title(f'(MLP - LS) - T1 (ms) \\n MAE = {diff_myo_ls_mlp.mean():.2f}', y = -0.3, fontsize = 9)\n",
    "plt.colorbar(im, fraction=0.045, pad=0.025)\n",
    "\n",
    "im = ax3.imshow(-(masked_T1_myo.filled(0) - masked_ensemble_myo.filled(0)), cmap='RdBu', vmin=-extent, vmax=extent)\n",
    "ax3.axis('off')\n",
    "ax3.set_title(f'(Ensemble - LS) - T1 (ms) \\n MAE = {diff_myo_ls_ensemble.mean():.2f}', y = -0.3, fontsize = 9)\n",
    "plt.colorbar(im, fraction=0.045, pad=0.025)\n"
   ]
  },
  {
   "cell_type": "code",
   "execution_count": null,
   "metadata": {},
   "outputs": [],
   "source": [
    "plt.hist(masked_T1_myo)"
   ]
  },
  {
   "attachments": {},
   "cell_type": "markdown",
   "metadata": {},
   "source": [
    "# Ensemble - MC experiments for analysing the bias"
   ]
  },
  {
   "cell_type": "code",
   "execution_count": 4,
   "metadata": {},
   "outputs": [],
   "source": [
    "# we first need to confirm whether the model itself is biased when \n",
    "# predicting the T1 values when generated"
   ]
  },
  {
   "cell_type": "code",
   "execution_count": null,
   "metadata": {},
   "outputs": [],
   "source": [
    "model_2 = MLP(input_channels=22, hidden_channels=128, output_channels=3)\n",
    "model_2 = model_2.cuda()\n",
    "model_2.load_state_dict(torch.load('/mnt/vol6t/Projects/NeuralCDE/T1_mapping/scripts/wandb/run-20230510_170542-87cqpdoh/files/model_at_epoch_36.pt'))"
   ]
  },
  {
   "cell_type": "code",
   "execution_count": 5,
   "metadata": {},
   "outputs": [
    {
     "data": {
      "text/plain": [
       "<All keys matched successfully>"
      ]
     },
     "execution_count": 5,
     "metadata": {},
     "output_type": "execute_result"
    }
   ],
   "source": [
    "model_2 = MLP_myomapnet(input_channels=22, hidden_channels=400, output_channels=3)\n",
    "model_2 = model_2.cuda()\n",
    "model_2.load_state_dict(torch.load('/mnt/vol6t/Projects/NeuralCDE/T1_mapping/scripts/wandb/run-20230515_152030-toba5m1z/files/model_at_epoch_51.pt'))"
   ]
  },
  {
   "cell_type": "code",
   "execution_count": 6,
   "metadata": {},
   "outputs": [
    {
     "name": "stderr",
     "output_type": "stream",
     "text": [
      "100%|██████████| 50000/50000 [01:12<00:00, 692.29it/s]\n"
     ]
    }
   ],
   "source": [
    "# generate data\n",
    "val_X, val_y, val_time = get_data_seq(dataset_size=50000, fixed= 1, t_perturb= 1, varying_length=1, rician = 1)\n",
    "val_X_norm = val_X.clone()\n",
    "val_y_norm = val_y.clone()\n",
    "val_time_norm = val_time.clone()\n",
    "val_X_norm = val_X_norm/torch.Tensor([1000,100])\n",
    "val_time_norm = val_time_norm/torch.Tensor([1000])\n",
    "val_y_norm = val_y_norm/torch.Tensor([100,1,1000])\n",
    "val_X_norm = (val_X_norm).reshape([-1,22])\n",
    "val_dataset = torch.utils.data.TensorDataset(val_X_norm, val_y_norm)\n",
    "val_dataloader = torch.utils.data.DataLoader(val_dataset, batch_size=256, shuffle=False)\n",
    "\n"
   ]
  },
  {
   "cell_type": "code",
   "execution_count": 15,
   "metadata": {},
   "outputs": [
    {
     "name": "stderr",
     "output_type": "stream",
     "text": [
      "100%|██████████| 20000/20000 [00:02<00:00, 7823.81it/s]\n"
     ]
    }
   ],
   "source": [
    "# generate data\n",
    "val_X, val_y, val_time = get_data_seq(dataset_size=20000, fixed= 1, t_perturb= 1, varying_length=1)\n",
    "val_X_norm = val_X.clone()\n",
    "val_y_norm = val_y.clone()\n",
    "val_time_norm = val_time.clone()\n",
    "val_X_norm = val_X_norm/torch.Tensor([2000,200])\n",
    "val_time_norm = val_time_norm/torch.Tensor([2000])\n",
    "val_y_norm = val_y_norm/torch.Tensor([100,1,1000])\n",
    "val_X_norm = (val_X_norm).reshape([-1,22])\n",
    "val_dataset = torch.utils.data.TensorDataset(val_X_norm, val_y_norm)\n",
    "val_dataloader = torch.utils.data.DataLoader(val_dataset, batch_size=256, shuffle=False)\n",
    "\n"
   ]
  },
  {
   "cell_type": "code",
   "execution_count": 16,
   "metadata": {},
   "outputs": [],
   "source": [
    "def validation(model, loss_func, test_dataloader, epoch):\n",
    "    # validation is done by an iteration over set of images AND generated sequences\n",
    "\n",
    "    model.eval()\n",
    "    val_loss = []\n",
    "    val_prediction = []\n",
    "    for batch in tqdm(test_dataloader):\n",
    "        batch_coeffs, batch_y, = batch\n",
    "        batch_coeffs = batch_coeffs.cuda()\n",
    "        batch_y = batch_y.cuda()\n",
    "        pred_y = model(batch_coeffs).squeeze(-1)\n",
    "        # rescale pred_y to the original scale\n",
    "        pred_y = pred_y*(torch.Tensor([100,1,1000]).cuda())\n",
    "        loss_MAE = nn.functional.l1_loss(pred_y, batch_y)\n",
    "        #loss_PINN = loss_func(pred_y, batch_y,torch.linspace(0,4000,100).cuda())\n",
    "        #print(loss_PINN)\n",
    "        loss = loss_MAE\n",
    "        #wandb.log({'step_loss_val_MAE': loss_MAE})\n",
    "        #wandb.log({'step_loss_val_PINN': loss_PINN})\n",
    "        #wandb.log({\"step_loss_val\": loss})\n",
    "        val_loss.append(loss.item())\n",
    "        val_prediction.append(pred_y)\n",
    "\n",
    "    val_loss = np.array(val_loss)\n",
    "    val_prediction = torch.cat(val_prediction, dim=0)[:,2]\n",
    "    val_prediction = val_prediction.cpu().detach().numpy()\n",
    "    #wandb.log({\"epoch_loss_val\": val_loss.mean(), \"epoch\": epoch})\n",
    "\n",
    "    return val_prediction"
   ]
  },
  {
   "cell_type": "code",
   "execution_count": 17,
   "metadata": {},
   "outputs": [
    {
     "name": "stderr",
     "output_type": "stream",
     "text": [
      "100%|██████████| 79/79 [00:00<00:00, 574.00it/s]\n"
     ]
    }
   ],
   "source": [
    "val_prediction = validation(model = model_2, test_dataloader = val_dataloader, loss_func = None, epoch = 0)\n"
   ]
  },
  {
   "cell_type": "code",
   "execution_count": 18,
   "metadata": {},
   "outputs": [],
   "source": [
    "sns.set_theme()"
   ]
  },
  {
   "cell_type": "code",
   "execution_count": 19,
   "metadata": {},
   "outputs": [
    {
     "data": {
      "text/plain": [
       "(array([2010., 2097., 1942., 2012., 1985., 1972., 2020., 1976., 2011.,\n",
       "        1975.]),\n",
       " array([ 100.11315155,  340.06427002,  580.01538086,  819.9664917 ,\n",
       "        1059.91760254, 1299.86865234, 1539.81982422, 1779.77087402,\n",
       "        2019.7220459 , 2259.6730957 , 2499.62426758]),\n",
       " <BarContainer object of 10 artists>)"
      ]
     },
     "execution_count": 19,
     "metadata": {},
     "output_type": "execute_result"
    },
    {
     "data": {
      "image/png": "[encoded data removed]",
      "text/plain": [
       "<Figure size 640x480 with 1 Axes>"
      ]
     },
     "metadata": {},
     "output_type": "display_data"
    }
   ],
   "source": [
    "plt.hist(val_y[:,2])"
   ]
  },
  {
   "cell_type": "code",
   "execution_count": 20,
   "metadata": {},
   "outputs": [
    {
     "data": {
      "text/plain": [
       "(array([ 88., 241., 243., 233., 207., 203., 194., 218., 213., 197., 201.,\n",
       "        223., 201., 221., 208., 226., 176., 220., 216., 225., 196., 208.,\n",
       "        185., 217., 198., 201., 190., 191., 190., 220., 203., 221., 225.,\n",
       "        196., 214., 201., 200., 189., 223., 220., 211., 202., 196., 193.,\n",
       "        196., 238., 206., 190., 201., 213., 215., 173., 188., 200., 189.,\n",
       "        196., 206., 223., 220., 206., 214., 207., 229., 203., 192., 202.,\n",
       "        220., 210., 195., 202., 193., 225., 200., 215., 185., 197., 214.,\n",
       "        222., 179., 229., 215., 215., 207., 224., 217., 217., 201., 186.,\n",
       "        216., 218., 216., 215., 248., 245., 232., 181.,  85.,  21.,   3.,\n",
       "          1.]),\n",
       " array([  95.18486023,  119.83937836,  144.49389648,  169.14842224,\n",
       "         193.80293274,  218.4574585 ,  243.11196899,  267.76647949,\n",
       "         292.42102051,  317.07553101,  341.7300415 ,  366.384552  ,\n",
       "         391.03909302,  415.69360352,  440.34811401,  465.00262451,\n",
       "         489.65716553,  514.31170654,  538.96618652,  563.62072754,\n",
       "         588.27520752,  612.92974854,  637.58428955,  662.23876953,\n",
       "         686.89331055,  711.54785156,  736.20233154,  760.85687256,\n",
       "         785.51135254,  810.16589355,  834.82043457,  859.47491455,\n",
       "         884.12945557,  908.78399658,  933.43847656,  958.09301758,\n",
       "         982.74755859, 1007.40203857, 1032.05651855, 1056.71105957,\n",
       "        1081.36560059, 1106.0201416 , 1130.67468262, 1155.32910156,\n",
       "        1179.98364258, 1204.63818359, 1229.29272461, 1253.94726562,\n",
       "        1278.60180664, 1303.25622559, 1327.9107666 , 1352.56530762,\n",
       "        1377.21984863, 1401.87438965, 1426.52880859, 1451.18334961,\n",
       "        1475.83789062, 1500.49243164, 1525.14697266, 1549.80151367,\n",
       "        1574.45593262, 1599.11047363, 1623.76501465, 1648.41955566,\n",
       "        1673.07409668, 1697.72851562, 1722.38305664, 1747.03759766,\n",
       "        1771.69213867, 1796.34667969, 1821.0012207 , 1845.65563965,\n",
       "        1870.31018066, 1894.96472168, 1919.6192627 , 1944.27380371,\n",
       "        1968.92822266, 1993.58276367, 2018.23730469, 2042.8918457 ,\n",
       "        2067.54638672, 2092.20092773, 2116.85546875, 2141.51000977,\n",
       "        2166.16430664, 2190.81884766, 2215.47338867, 2240.12792969,\n",
       "        2264.7824707 , 2289.43701172, 2314.09155273, 2338.74609375,\n",
       "        2363.40063477, 2388.05517578, 2412.7097168 , 2437.36401367,\n",
       "        2462.01855469, 2486.6730957 , 2511.32763672, 2535.98217773,\n",
       "        2560.63671875]),\n",
       " <BarContainer object of 100 artists>)"
      ]
     },
     "execution_count": 20,
     "metadata": {},
     "output_type": "execute_result"
    },
    {
     "data": {
      "image/png": "[encoded data removed]",
      "text/plain": [
       "<Figure size 640x480 with 1 Axes>"
      ]
     },
     "metadata": {},
     "output_type": "display_data"
    }
   ],
   "source": [
    "plt.hist(val_prediction[abs(val_prediction)<1e4], bins = 100)"
   ]
  },
  {
   "cell_type": "code",
   "execution_count": 21,
   "metadata": {},
   "outputs": [
    {
     "data": {
      "text/plain": [
       "(array([1.0000e+00, 7.0000e+00, 4.0000e+00, 1.7000e+01, 3.6000e+01,\n",
       "        8.8100e+02, 1.8944e+04, 8.7000e+01, 1.8000e+01, 5.0000e+00]),\n",
       " array([-1880.10693359, -1575.53491211, -1270.96289062,  -966.39093018,\n",
       "         -661.81896973,  -357.24694824,   -52.67494965,   251.89704895,\n",
       "          556.46905518,   861.04101562,  1165.61303711]),\n",
       " <BarContainer object of 10 artists>)"
      ]
     },
     "execution_count": 21,
     "metadata": {},
     "output_type": "execute_result"
    },
    {
     "data": {
      "image/png": "[encoded data removed]",
      "text/plain": [
       "<Figure size 640x480 with 1 Axes>"
      ]
     },
     "metadata": {},
     "output_type": "display_data"
    }
   ],
   "source": [
    "plt.hist((val_y[:,2]-val_prediction)[abs(val_prediction)<1e5])\n",
    "#val_prediction"
   ]
  },
  {
   "cell_type": "code",
   "execution_count": 22,
   "metadata": {},
   "outputs": [
    {
     "data": {
      "image/png": "[encoded data removed]",
      "text/plain": [
       "<Figure size 640x480 with 1 Axes>"
      ]
     },
     "metadata": {},
     "output_type": "display_data"
    }
   ],
   "source": [
    "array1 = np.array(val_y[:,2])\n",
    "array2 = np.array(val_prediction)\n",
    "\n",
    "mean_diff = np.mean(array1 - array2)\n",
    "diff = array1 - array2\n",
    "mean = np.mean(diff)\n",
    "sd = np.std(diff)\n",
    "loa_lower = mean - 1.96 * sd\n",
    "loa_upper = mean + 1.96 * sd\n",
    "\n",
    "# Create Bland-Altman plot\n",
    "plt.scatter(np.mean([array1, array2], axis=0), diff)\n",
    "plt.axhline(mean, color='red', linestyle='--')\n",
    "plt.axhline(loa_lower, color='red', linestyle='--', alpha=0.5)\n",
    "plt.axhline(loa_upper, color='red', linestyle='--', alpha=0.5)\n",
    "plt.xlabel('Mean of Measurements')\n",
    "plt.ylabel('Difference')\n",
    "plt.title('Bland-Altman Plot on Generated Data - New MLP')\n",
    "plt.text(plt.xlim()[1], mean, f'Mean: {mean:.2f}', ha='right', va='center', color='red')\n",
    "plt.text(plt.xlim()[1], loa_lower, f'LOA Lower: {loa_lower:.2f}', ha='right', va='center', color='red', alpha=0.5)\n",
    "plt.text(plt.xlim()[1], loa_upper, f'LOA Upper: {loa_upper:.2f}', ha='right', va='center', color='red', alpha=0.5)\n",
    "\n",
    "plt.show()"
   ]
  },
  {
   "attachments": {},
   "cell_type": "markdown",
   "metadata": {},
   "source": [
    "# Weight Similarity"
   ]
  },
  {
   "cell_type": "code",
   "execution_count": 43,
   "metadata": {},
   "outputs": [
    {
     "name": "stdout",
     "output_type": "stream",
     "text": [
      "0\n"
     ]
    }
   ],
   "source": [
    "import itertools\n",
    "models = []\n",
    "#naive loss\n",
    "model_folder = ['run-20230515_152030-toba5m1z','run-20230515_184020-45p69r30','run-20230515_183956-4celg5pb','run-20230515_184050-5lcse0fj']\n",
    "#3-param loss\n",
    "#model_folder = ['run-20230531_183513-lc7so1vv']\n",
    "#3-param loss + PINN loss\n",
    "model_folder = ['run-20230601_142526-zflbb6nd']\n",
    "model_epochs = [16]#\n",
    "                #26, 36, 46, 56, 66, 76, 86, 96]\n",
    "model_paths = []\n",
    "for i,j in itertools.product(model_folder, model_epochs):\n",
    "    model_paths.append(f'/mnt/vol6t/Projects/NeuralCDE/T1_mapping/scripts/wandb/{i}/files/model_at_epoch_{j}.pt')\n",
    "\n",
    "for i, model_path in enumerate(model_paths):\n",
    "    print(i)\n",
    "    models.append( MLP_myomapnet(input_channels=22, hidden_channels=400, output_channels=3))\n",
    "    #models[i] = models[i].cuda()\n",
    "    models[i].load_state_dict(torch.load(model_path))"
   ]
  },
  {
   "cell_type": "code",
   "execution_count": 44,
   "metadata": {},
   "outputs": [
    {
     "name": "stdout",
     "output_type": "stream",
     "text": [
      "tensor([-0.7715,  0.1533, -0.3764,  ...,  0.9408, -0.4358, -0.3324])\n"
     ]
    }
   ],
   "source": [
    "flattened_weights_models = []\n",
    "for i in range(len(models)):\n",
    "    flattened_weights = []\n",
    "\n",
    "\n",
    "    # Iterate over the parameters of the model\n",
    "    for param in models[i].parameters():\n",
    "        # Flatten the parameter tensor\n",
    "        flattened_param = param.flatten()\n",
    "        \n",
    "        # Convert the flattened tensor to a numpy array\n",
    "        np_param = flattened_param.detach().numpy()\n",
    "        \n",
    "        # Append the numpy array to the list of flattened weights\n",
    "        flattened_weights.append(np_param)\n",
    "\n",
    "    # Concatenate all the flattened weights in the list\n",
    "    flattened_tensor = torch.from_numpy(np.concatenate(flattened_weights))\n",
    "\n",
    "    # Print the flattened tensor\n",
    "    print(flattened_tensor)\n",
    "    flattened_weights_models.append(flattened_tensor)"
   ]
  },
  {
   "cell_type": "code",
   "execution_count": 45,
   "metadata": {},
   "outputs": [
    {
     "data": {
      "image/png": "[encoded data removed]",
      "text/plain": [
       "<Figure size 640x480 with 2 Axes>"
      ]
     },
     "metadata": {},
     "output_type": "display_data"
    }
   ],
   "source": [
    "import numpy as np\n",
    "import matplotlib.pyplot as plt\n",
    "import seaborn as sns\n",
    "\n",
    "# Set the seaborn theme\n",
    "sns.set_theme()\n",
    "\n",
    "import numpy as np\n",
    "import matplotlib.pyplot as plt\n",
    "\n",
    "# Assuming you have a list of flat tensors called `flat_tensors`\n",
    "# Calculate the pairwise similarity matrix using cosine similarity\n",
    "num_tensors = len(flattened_weights_models)\n",
    "similarity_matrix = np.zeros((num_tensors, num_tensors))\n",
    "\n",
    "for i in range(num_tensors):\n",
    "    for j in range(num_tensors):\n",
    "        similarity_matrix[i, j] = np.dot(flattened_weights_models[i], flattened_weights_models[j]) / (np.linalg.norm(flattened_weights_models[i]) * np.linalg.norm(flattened_weights_models[j]))\n",
    "\n",
    "# Plot the similarity matrix\n",
    "plt.imshow(similarity_matrix, cmap='jet', interpolation='nearest')\n",
    "plt.colorbar()\n",
    "plt.title('Similarity Matrix')\n",
    "plt.xlabel('Model Index')\n",
    "plt.ylabel('Model Index')\n",
    "plt.grid(False)\n",
    "plt.show()\n"
   ]
  },
  {
   "attachments": {},
   "cell_type": "markdown",
   "metadata": {},
   "source": [
    "# LS outlier - fitting test"
   ]
  },
  {
   "cell_type": "code",
   "execution_count": 46,
   "metadata": {},
   "outputs": [],
   "source": [
    "import glob\n",
    "\n",
    "# generate inference data numpy - now we have the perturbed data\n",
    "data_root = '/mnt/vol6t/Projects/NeuralCDE/T1_mapping/registered_dataset'\n",
    "data_files = glob.glob(data_root + '/6263556_20131023_MOLLI_pre_groupwise_slice1_org.pt')\n",
    "data = torch.load(data_files[0])\n",
    "masked_T1 = np.ma.masked_array(data['T1'], mask = 1-data['mask'].astype('int'), fill_value= 0)\n",
    "max_pos = np.unravel_index(np.argmax(masked_T1), masked_T1.shape)\n"
   ]
  },
  {
   "cell_type": "code",
   "execution_count": 47,
   "metadata": {},
   "outputs": [
    {
     "data": {
      "text/plain": [
       "3417.030993999717"
      ]
     },
     "execution_count": 47,
     "metadata": {},
     "output_type": "execute_result"
    }
   ],
   "source": [
    "masked_T1.max()"
   ]
  },
  {
   "cell_type": "code",
   "execution_count": 48,
   "metadata": {},
   "outputs": [
    {
     "data": {
      "text/plain": [
       "array([85.78913116, 15.32994843, 35.84799194, 62.93899918, 13.79642677,\n",
       "        5.39936399, 41.54579926, 13.06985378, 13.16138935, 17.61820412,\n",
       "       15.20213985])"
      ]
     },
     "execution_count": 48,
     "metadata": {},
     "output_type": "execute_result"
    }
   ],
   "source": [
    "data['volume'][max_pos[0],max_pos[1],:]"
   ]
  },
  {
   "cell_type": "code",
   "execution_count": 49,
   "metadata": {},
   "outputs": [],
   "source": [
    "from scipy.optimize import curve_fit\n",
    "\n",
    "def T1_3param(t, C, k, T1):\n",
    "    '''\n",
    "    MOLLI signal acquistion equation s(t) = C(1 - k * np.exp(-t*(k-1)/T1))\n",
    "    '''\n",
    "    return np.abs(C*(1 - k * np.exp(-t*(k-1)/T1)))\n",
    "\n",
    "def polarity_recovery(signal, tvec, p0=None, signal_threshold=25,\n",
    "                      cache=None, cache_result=True,\n",
    "                      **kwargs):\n",
    "    '''\n",
    "    Polarity recovery fitting, using cache can achieve an acceleration factor\n",
    "    of ~2. \n",
    "\n",
    "    Parameters\n",
    "    ----------\n",
    "    signal : numpy.array\n",
    "        signal acquisition array of shape (#acquisitions, )\n",
    "    tvec : numpy.array\n",
    "        inverstion time array of shape (#acquisitions, )\n",
    "    signal_threshold : float\n",
    "        threshold of maximal signal intensity, no protons will be assumed if max(signal) < threshold\n",
    "    cache : List[dict]\n",
    "        List of cached polarity recovery fitting results, for example results\n",
    "        from the neignbouring voxels.\n",
    "    cache_result : bool\n",
    "        if the fitting intermediate results should be cached\n",
    "    **kwargs \n",
    "        parameters that can be passed to curve fit\n",
    "    \n",
    "    '''\n",
    "    # make safe code \n",
    "    signal = signal.squeeze().astype(np.float64)\n",
    "    tvec = tvec.squeeze().astype(np.float64)\n",
    "    \n",
    "    # a few checks before running\n",
    "    assert np.all(tvec[1:] - tvec[:-1] >= -1e-8), \"Time vector is not sorted!\"\n",
    "    assert signal.shape == tvec.shape, \"signal and tvec have mismatching shape!\"\n",
    "    \n",
    "    # early exit \n",
    "    if signal.max() < signal_threshold: \n",
    "        return dict(p_opt=np.array([1., 0., 0.]), p_cov=None,\n",
    "                    null_index=0, sd = 0, cache=None)\n",
    "    \n",
    "    # adaptively initialize p0 \n",
    "    if p0 is None:\n",
    "        p0 = np.array([signal.max(), 2.0, 1e3])\n",
    "    if cache is None:\n",
    "        cache = [dict(p_opt=p0) for _ in tvec]\n",
    "    assert len(cache) == tvec.shape[0], \"cache has incorrect shape!\"\n",
    "    \n",
    "    opt_results = []\n",
    "    fitting_errors = [] \n",
    "    \n",
    "    # polarity recovery \n",
    "    for null_index in range(signal.shape[-1]):\n",
    "        signal_inverted = signal.copy()    #copy the array to avoid in-place change\n",
    "        signal_inverted[:null_index] *= -1\n",
    "        try:\n",
    "            # ensure p0 is valid\n",
    "            p0 = cache[null_index][\"p_opt\"]\n",
    "            if kwargs.get(\"bounds\") is not None:\n",
    "                p0 = np.clip(p0, kwargs['bounds'][0], kwargs['bounds'][1])\n",
    "            \n",
    "            # optimize!\n",
    "            p_opt, p_cov  = curve_fit(T1_3param, tvec, signal_inverted,\n",
    "                                      p0=p0,\n",
    "                                      bounds=(0, (abs(y.max()+1) * 20., 30., 10e4)))\n",
    "            \n",
    "            # evaluate the mse error\n",
    "            signal_fitted = T1_3param(tvec, *p_opt)\n",
    "            mse = np.mean((signal_fitted - signal_inverted) ** 2)\n",
    "        except Exception as e:\n",
    "            print(cache[null_index][\"p_opt\"])\n",
    "            print(kwargs)\n",
    "            # handle the exception and indicate when the error is raised\n",
    "            raise type(e)(str(e) + f\"\\nError raised when null_index={null_index:d}\") \n",
    "       \n",
    "        # save intermediate fitting results \n",
    "        opt_results.append(dict(p_opt=p_opt,\n",
    "                                p_cov=p_cov,\n",
    "                                mse=mse))\n",
    "        fitting_errors.append(mse) \n",
    "\n",
    "    # find the best one\n",
    "    best_null_index = np.argmin(fitting_errors) \n",
    "    best_opt_result = opt_results[best_null_index]\n",
    "    best_opt_result[\"null_index\"] = best_null_index\n",
    "\n",
    "    signal_invert = signal.copy()\n",
    "    signal[:best_null_index] = -1*signal[:best_null_index]\n",
    "    #best_opt_result['sd'] = sd_calculation(best_opt_result['p_opt'], tvec, signal_invert)\n",
    "    # cache results if necessary \n",
    "    best_opt_result[\"cache\"] = opt_results if cache_result else None \n",
    "    return best_opt_result"
   ]
  },
  {
   "cell_type": "code",
   "execution_count": 50,
   "metadata": {},
   "outputs": [
    {
     "data": {
      "text/plain": [
       "[<matplotlib.lines.Line2D at 0x7f2ab589a760>]"
      ]
     },
     "execution_count": 50,
     "metadata": {},
     "output_type": "execute_result"
    },
    {
     "data": {
      "image/png": "[encoded data removed]",
      "text/plain": [
       "<Figure size 640x480 with 2 Axes>"
      ]
     },
     "metadata": {},
     "output_type": "display_data"
    }
   ],
   "source": [
    "plt.imshow(data['T1'], cmap='jet', vmin=0, vmax=2000)\n",
    "plt.colorbar()\n",
    "x = [point[0] for point in data['outer_contour']]\n",
    "y = [point[1] for point in data['outer_contour']]\n",
    "\n",
    "# Plot the contour\n",
    "plt.plot(x, y)\n",
    "\n",
    "x = [point[0] for point in data['inner_contour']]\n",
    "y = [point[1] for point in data['inner_contour']]\n",
    "\n",
    "# Plot the contour\n",
    "plt.plot(x, y)\n"
   ]
  },
  {
   "cell_type": "code",
   "execution_count": 51,
   "metadata": {},
   "outputs": [
    {
     "name": "stdout",
     "output_type": "stream",
     "text": [
      "[ 216.97831616    2.09672833 1639.20637084]\n"
     ]
    }
   ],
   "source": [
    "from scipy.optimize import curve_fit\n",
    "import matplotlib.pyplot as plt\n",
    "\n",
    "# Define the function to fit\n",
    "\n",
    "def T1_3param(t, C, k, T1):\n",
    "    '''\n",
    "    MOLLI signal acquistion equation s(t) = C(1 - k * np.exp(-t*(k-1)/T1))\n",
    "    '''\n",
    "    return C*(1 - k * np.exp(-t*(k-1)/T1))\n",
    "\n",
    "# Generate some example data\n",
    "#seq_to_be_fit = data['volume'][max_pos[0],max_pos[1],:]\n",
    "seq_to_be_fit = data['volume'][100,125,:]\n",
    "\n",
    "x = data['tvec'].astype('float32')\n",
    "\n",
    "x = data['tvec'].astype('float32')\n",
    "y = seq_to_be_fit\n",
    "\n",
    "\n",
    "\n",
    "time_tensor = torch.Tensor(data['tvec'].astype('float32'))\n",
    "time_tensor, index = torch.sort(time_tensor)\n",
    "data_tensor = torch.Tensor(seq_to_be_fit.astype('float32'))\n",
    "x = x[index]\n",
    "y = y[index]\n",
    "X_test = torch.stack([time_tensor.unsqueeze(0), data_tensor.unsqueeze(0)], dim=2)\n",
    "X_test = X_test/torch.Tensor([2000,200])\n",
    "X_test = X_test.reshape(-1,22)\n",
    "\n",
    "# Perform the curve fitting\n",
    "#popt, pcov = curve_fit(T1_3param, x, y, p0 = np.array([y.max(), 3.0, 1e3]),bounds=(0, (abs(y.max()+1) * 20., 30., 10e4)))\n",
    "popt = polarity_recovery(y, x, p0 = np.array([y.max(), 2.0, 1e3]),bounds=(0, (abs(y.max()+1) * 20., 30., 1e4)))\n",
    "# Retrieve the optimized parameters\n",
    "print(popt['p_opt'])\n",
    "\n"
   ]
  },
  {
   "cell_type": "code",
   "execution_count": 52,
   "metadata": {},
   "outputs": [],
   "source": [
    "color_list = ['g-', 'b-', 'y-', 'm-']"
   ]
  },
  {
   "cell_type": "code",
   "execution_count": 53,
   "metadata": {},
   "outputs": [
    {
     "data": {
      "text/plain": [
       "216.97831615889248"
      ]
     },
     "execution_count": 53,
     "metadata": {},
     "output_type": "execute_result"
    }
   ],
   "source": [
    "popt['p_opt'][0]"
   ]
  },
  {
   "cell_type": "code",
   "execution_count": 54,
   "metadata": {},
   "outputs": [
    {
     "data": {
      "text/plain": [
       "[<matplotlib.lines.Line2D at 0x7f2abc12e640>]"
      ]
     },
     "execution_count": 54,
     "metadata": {},
     "output_type": "execute_result"
    },
    {
     "data": {
      "image/png": "[encoded data removed]",
      "text/plain": [
       "<Figure size 640x480 with 1 Axes>"
      ]
     },
     "metadata": {},
     "output_type": "display_data"
    }
   ],
   "source": [
    "y_fit = np.abs(T1_3param(np.linspace(0,3500,100), popt['p_opt'][0], popt['p_opt'][1], popt['p_opt'][2]))\n",
    "\n",
    "# Plot the original data and the fitted curve\n",
    "plt.plot(x, y, 'bo', label='Original Data')\n",
    "plt.plot(np.linspace(0,time_tensor.max(),100), y_fit, 'r-', label='Fitted Curve')\n"
   ]
  },
  {
   "cell_type": "code",
   "execution_count": 56,
   "metadata": {},
   "outputs": [
    {
     "name": "stdout",
     "output_type": "stream",
     "text": [
      "tensor([[ 183.3206,    2.4786, 1560.4625]], grad_fn=<MulBackward0>)\n"
     ]
    },
    {
     "data": {
      "image/png": "[encoded data removed]",
      "text/plain": [
       "<Figure size 640x480 with 1 Axes>"
      ]
     },
     "metadata": {},
     "output_type": "display_data"
    }
   ],
   "source": [
    "# Generate the fitted curve using the optimized parameters\n",
    "y_fit = np.abs(T1_3param(np.linspace(0,3500,100), popt['p_opt'][0], popt['p_opt'][1], popt['p_opt'][2]))\n",
    "\n",
    "# Plot the original data and the fitted curve\n",
    "plt.plot(x, y, 'bo', label='Original Data')\n",
    "plt.plot(np.linspace(0,time_tensor.max(),100), y_fit, 'r-', label='Fitted Curve')\n",
    "\n",
    "\n",
    "for i in range(len(models)):\n",
    "    \n",
    "    models[i].eval()\n",
    "    y_pred = models[i](X_test)*torch.Tensor([100,1,1000])\n",
    "    print(y_pred)\n",
    "    y_pred = np.abs(T1_3param(np.linspace(0,time_tensor.max(),50), y_pred[0,0].detach().numpy(), y_pred[0,1].detach().numpy(), y_pred[0,2].detach().numpy()))\n",
    "    plt.plot(np.linspace(0,time_tensor.max(),50), y_pred, color_list[i//9],  label = str(f'ensemble {(i+1)//9}'),alpha=0.5)\n",
    "plt.xlabel('x')\n",
    "plt.ylabel('y')\n",
    "plt.legend()\n",
    "#T1 = data['T1'][max_pos[0],max_pos[1]]\n",
    "#plt.title(f'Original Data and Fitted Curve, T1 = {T1}')\n",
    "\n",
    "handles, labels = plt.gca().get_legend_handles_labels()\n",
    "newLabels, newHandles = [], []\n",
    "for handle, label in zip(handles, labels):\n",
    "  if label not in newLabels:\n",
    "    newLabels.append(label)\n",
    "    newHandles.append(handle)\n",
    "plt.legend(newHandles, newLabels)\n",
    "plt.title('3 Params and PINN loss - before collapse')\n",
    "plt.show()"
   ]
  },
  {
   "cell_type": "code",
   "execution_count": 21,
   "metadata": {},
   "outputs": [
    {
     "data": {
      "text/plain": [
       "3417.030993999717"
      ]
     },
     "execution_count": 21,
     "metadata": {},
     "output_type": "execute_result"
    }
   ],
   "source": [
    "data['T1'][max_pos[0],max_pos[1]]"
   ]
  },
  {
   "cell_type": "markdown",
   "metadata": {},
   "source": []
  }
 ],
 "metadata": {
  "kernelspec": {
   "display_name": "Python 3",
   "language": "python",
   "name": "python3"
  },
  "language_info": {
   "codemirror_mode": {
    "name": "ipython",
    "version": 3
   },
   "file_extension": ".py",
   "mimetype": "text/x-python",
   "name": "python",
   "nbconvert_exporter": "python",
   "pygments_lexer": "ipython3",
   "version": "3.9.16"
  },
  "orig_nbformat": 4
 },
 "nbformat": 4,
 "nbformat_minor": 2
}
