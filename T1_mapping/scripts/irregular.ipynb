{
 "cells": [
  {
   "cell_type": "code",
   "execution_count": 1,
   "metadata": {},
   "outputs": [],
   "source": [
    "import wandb\n",
    "import math\n",
    "import torch\n",
    "import torchcde\n",
    "from tqdm import tqdm\n",
    "import seaborn as sns\n",
    "import numpy as np \n",
    "from matplotlib import pyplot as plt\n",
    "import os\n",
    "from pathlib import Path\n",
    "from scipy.io import loadmat \n",
    "import time \n",
    "from model import *\n",
    "from data import *"
   ]
  },
  {
   "cell_type": "code",
   "execution_count": 2,
   "metadata": {},
   "outputs": [
    {
     "name": "stderr",
     "output_type": "stream",
     "text": [
      "100%|██████████| 100/100 [00:00<00:00, 1628.74it/s]\n"
     ]
    }
   ],
   "source": [
    "\n",
    "train_X, train_y, train_time = get_data_seq_raw(fixed = True, t_perturb = True, varying_length= True, rician = True, dataset_size= 100)"
   ]
  },
  {
   "cell_type": "code",
   "execution_count": 3,
   "metadata": {},
   "outputs": [],
   "source": [
    "train_X_norm = train_X.clone()\n",
    "train_y_norm = train_y.clone()\n",
    "train_time_norm = train_time.clone()\n",
    "train_X_norm = train_X_norm/torch.Tensor([2000,200])\n",
    "train_time_norm = train_time_norm/torch.Tensor([2000])\n",
    "train_y_norm = train_y_norm/torch.Tensor([100,1,1000])\n",
    "\n"
   ]
  },
  {
   "cell_type": "code",
   "execution_count": 37,
   "metadata": {},
   "outputs": [],
   "source": []
  },
  {
   "cell_type": "code",
   "execution_count": 6,
   "metadata": {},
   "outputs": [],
   "source": [
    "train_coeffs = torchcde.hermite_cubic_coefficients_with_backward_differences(train_X_norm)\n",
    "train_dataset = torch.utils.data.TensorDataset(train_X_norm, train_coeffs, train_y_norm, train_time_norm)\n"
   ]
  },
  {
   "attachments": {},
   "cell_type": "markdown",
   "metadata": {},
   "source": [
    "pseudo code:\n",
    "    cached results = empty(batchsize)\n",
    "    for batch in dataloader:\n",
    "        for i in length(t):\n"
   ]
  },
  {
   "cell_type": "code",
   "execution_count": 9,
   "metadata": {},
   "outputs": [
    {
     "data": {
      "text/plain": [
       "<All keys matched successfully>"
      ]
     },
     "execution_count": 9,
     "metadata": {},
     "output_type": "execute_result"
    }
   ],
   "source": [
    "model = NeuralCDE(input_channels=2, hidden_channels=8, output_channels=3)\n",
    "model.load_state_dict(torch.load('/mnt/vol6t/Projects/NeuralCDE/T1_mapping/scripts/wandb/run-20230612_144916-xdnl6mw4/files/model_at_epoch_6.pt'))"
   ]
  },
  {
   "cell_type": "code",
   "execution_count": 10,
   "metadata": {},
   "outputs": [],
   "source": [
    "model = model.cuda()"
   ]
  },
  {
   "cell_type": "code",
   "execution_count": 11,
   "metadata": {},
   "outputs": [],
   "source": [
    "train_dataloader = torch.utils.data.DataLoader(train_dataset, batch_size=8, shuffle=False)"
   ]
  },
  {
   "cell_type": "code",
   "execution_count": 12,
   "metadata": {},
   "outputs": [
    {
     "ename": "NameError",
     "evalue": "name 'X' is not defined",
     "output_type": "error",
     "traceback": [
      "\u001b[0;31m---------------------------------------------------------------------------\u001b[0m",
      "\u001b[0;31mNameError\u001b[0m                                 Traceback (most recent call last)",
      "Cell \u001b[0;32mIn[12], line 1\u001b[0m\n\u001b[0;32m----> 1\u001b[0m X\u001b[39m.\u001b[39mshape\n",
      "\u001b[0;31mNameError\u001b[0m: name 'X' is not defined"
     ]
    }
   ],
   "source": [
    "X.shape"
   ]
  },
  {
   "cell_type": "code",
   "execution_count": null,
   "metadata": {},
   "outputs": [],
   "source": [
    "X[:,:2,1] = -X[:,:2,1]"
   ]
  },
  {
   "cell_type": "code",
   "execution_count": null,
   "metadata": {},
   "outputs": [
    {
     "data": {
      "text/plain": [
       "tensor([[[ 0.0239, -1.3191],\n",
       "         [ 0.0922, -1.1933],\n",
       "         [ 0.1324,  1.0844],\n",
       "         [ 0.5112,  0.4763],\n",
       "         [ 0.6351,  0.2804],\n",
       "         [ 0.7203,  0.1924],\n",
       "         [ 1.0017,  0.1236],\n",
       "         [ 1.1006,  0.1925],\n",
       "         [ 1.1363,  0.2342],\n",
       "         [ 1.5196,  0.5163],\n",
       "         [ 2.0358,  0.8134]],\n",
       "\n",
       "        [[-0.0137, -1.0142],\n",
       "         [ 0.0302, -0.8794],\n",
       "         [ 0.1887,  0.4693],\n",
       "         [ 0.4940,  0.0409],\n",
       "         [ 0.5154,  0.0268],\n",
       "         [ 0.6756,  0.1201],\n",
       "         [ 1.0396,  0.2776],\n",
       "         [ 1.0431,  0.2782],\n",
       "         [ 1.0528,  0.2609],\n",
       "         [ 1.5592,  0.3425],\n",
       "         [ 1.9298,  0.3687]],\n",
       "\n",
       "        [[ 0.0383, -2.3524],\n",
       "         [ 0.0752, -2.1005],\n",
       "         [ 0.1081,  1.7724],\n",
       "         [ 0.4545,  0.3331],\n",
       "         [ 0.5541,  0.0241],\n",
       "         [ 0.7234,  0.2425],\n",
       "         [ 0.9663,  0.5954],\n",
       "         [ 1.0627,  0.7327],\n",
       "         [ 1.1259,  0.6884],\n",
       "         [ 1.5985,  0.9139],\n",
       "         [ 2.1220,  1.0030]],\n",
       "\n",
       "        [[ 0.0394, -0.0254],\n",
       "         [ 0.0638, -0.0106],\n",
       "         [ 0.2510,  0.0759],\n",
       "         [ 0.4772,  0.1149],\n",
       "         [ 0.5226,  0.1059],\n",
       "         [ 0.6856,  0.1100],\n",
       "         [ 1.0097,  0.1147],\n",
       "         [ 1.0655,  0.1124],\n",
       "         [ 1.1029,  0.1047],\n",
       "         [ 1.6302,  0.1148],\n",
       "         [ 2.1210,  0.1119]],\n",
       "\n",
       "        [[ 0.0579, -0.4030],\n",
       "         [ 0.1318, -0.2858],\n",
       "         [ 0.1324,  0.2883],\n",
       "         [ 0.5141,  0.0457],\n",
       "         [ 0.5837,  0.0777],\n",
       "         [ 0.6405,  0.1026],\n",
       "         [ 0.9356,  0.1850],\n",
       "         [ 0.9657,  0.1950],\n",
       "         [ 1.1786,  0.2236],\n",
       "         [ 1.5392,  0.2398],\n",
       "         [ 1.9643,  0.2537]],\n",
       "\n",
       "        [[-0.0207, -4.1232],\n",
       "         [ 0.1046, -2.7522],\n",
       "         [ 0.2281,  1.6645],\n",
       "         [ 0.4526,  0.4823],\n",
       "         [ 0.6405,  0.2744],\n",
       "         [ 0.6431,  0.2364],\n",
       "         [ 0.9743,  0.8596],\n",
       "         [ 1.0096,  0.9447],\n",
       "         [ 1.1668,  1.1100],\n",
       "         [ 1.5481,  1.4299],\n",
       "         [ 1.9444,  1.2755]],\n",
       "\n",
       "        [[-0.0042, -3.2084],\n",
       "         [ 0.0581, -1.6787],\n",
       "         [ 0.2729,  1.1396],\n",
       "         [ 0.4699,  1.8672],\n",
       "         [ 0.6804,  2.2020],\n",
       "         [ 0.7249,  2.2160],\n",
       "         [ 0.9452,  2.3235],\n",
       "         [ 1.0432,  2.2984],\n",
       "         [ 1.1753,  2.3644],\n",
       "         [ 1.5260,  2.3381],\n",
       "         [ 2.0290,  2.2956]],\n",
       "\n",
       "        [[ 0.0314, -0.3362],\n",
       "         [ 0.0893, -0.4172],\n",
       "         [ 0.1986,  0.2950],\n",
       "         [ 0.5333,  0.1619],\n",
       "         [ 0.5940,  0.1100],\n",
       "         [ 0.7127,  0.1405],\n",
       "         [ 0.9647,  0.0526],\n",
       "         [ 0.9844,  0.0481],\n",
       "         [ 1.0057,  0.0792],\n",
       "         [ 1.4839,  0.1736],\n",
       "         [ 2.0542,  0.2197]]], device='cuda:0')"
      ]
     },
     "execution_count": 150,
     "metadata": {},
     "output_type": "execute_result"
    }
   ],
   "source": [
    "X"
   ]
  },
  {
   "cell_type": "code",
   "execution_count": null,
   "metadata": {},
   "outputs": [],
   "source": []
  },
  {
   "cell_type": "code",
   "execution_count": 151,
   "metadata": {},
   "outputs": [
    {
     "data": {
      "text/plain": [
       "tensor([[ 0.0239, -1.3191],\n",
       "        [ 0.0922, -1.1933],\n",
       "        [ 0.1324,  1.0844],\n",
       "        [ 0.5112,  0.4763],\n",
       "        [ 0.6351,  0.2804],\n",
       "        [ 0.7203,  0.1924],\n",
       "        [ 1.0017,  0.1236],\n",
       "        [ 1.1006,  0.1925],\n",
       "        [ 1.1363,  0.2342],\n",
       "        [ 1.5196,  0.5163],\n",
       "        [ 2.0358,  0.8134]], device='cuda:0')"
      ]
     },
     "execution_count": 151,
     "metadata": {},
     "output_type": "execute_result"
    }
   ],
   "source": [
    "X[0]"
   ]
  },
  {
   "cell_type": "code",
   "execution_count": 10,
   "metadata": {},
   "outputs": [],
   "source": [
    "def curve_loss_val(output, target,time):\n",
    "    target_signal = torch.abs(target[:,0].unsqueeze(-1)*(1 - target[:,1].unsqueeze(-1)*torch.exp(-1*time.unsqueeze(0)*(target[:,1].unsqueeze(-1) - 1)/target[:,2].unsqueeze(-1))))\n",
    "    output_signal = torch.abs(output[:,0].unsqueeze(-1)*(1 - output[:,1].unsqueeze(-1)*torch.exp(-1*time.unsqueeze(0)*(output[:,1].unsqueeze(-1) - 1)/output[:,2].unsqueeze(-1))))\n",
    "    #print(target_signal)\n",
    "    #print(output_signal)\n",
    "    loss = torch.abs(target_signal - output_signal)\n",
    "    #print(loss)\n",
    "    return loss.mean(axis=1)"
   ]
  },
  {
   "cell_type": "code",
   "execution_count": 14,
   "metadata": {},
   "outputs": [
    {
     "name": "stderr",
     "output_type": "stream",
     "text": [
      "  0%|          | 0/13 [00:00<?, ?it/s]"
     ]
    },
    {
     "name": "stdout",
     "output_type": "stream",
     "text": [
      "11\n",
      "tensor(65.3052, device='cuda:0', grad_fn=<SelectBackward0>)\n",
      "tensor([ 8.4564e+01,  6.0377e-02, -4.0504e+02], device='cuda:0',\n",
      "       grad_fn=<MulBackward0>)\n",
      "tensor(763769.3125, device='cuda:0', grad_fn=<SelectBackward0>)\n",
      "tensor([ 8.4564e+01,  6.0377e-02, -4.0504e+02], device='cuda:0',\n",
      "       grad_fn=<MulBackward0>)\n",
      "tensor(178499.8906, device='cuda:0', grad_fn=<SelectBackward0>)\n",
      "tensor([ 8.4564e+01,  6.0377e-02, -4.0504e+02], device='cuda:0',\n",
      "       grad_fn=<MulBackward0>)\n",
      "tensor(963.3408, device='cuda:0', grad_fn=<SelectBackward0>)\n",
      "tensor([ 8.4564e+01,  6.0377e-02, -4.0504e+02], device='cuda:0',\n",
      "       grad_fn=<MulBackward0>)\n",
      "tensor(1993.5012, device='cuda:0', grad_fn=<SelectBackward0>)\n",
      "tensor([ 8.4564e+01,  6.0377e-02, -4.0504e+02], device='cuda:0',\n",
      "       grad_fn=<MulBackward0>)\n",
      "tensor(1847.7018, device='cuda:0', grad_fn=<SelectBackward0>)\n",
      "tensor([ 8.4564e+01,  6.0377e-02, -4.0504e+02], device='cuda:0',\n",
      "       grad_fn=<MulBackward0>)\n",
      "tensor(89.9270, device='cuda:0', grad_fn=<SelectBackward0>)\n",
      "tensor([ 8.4564e+01,  6.0377e-02, -4.0504e+02], device='cuda:0',\n",
      "       grad_fn=<MulBackward0>)\n",
      "tensor(450.0128, device='cuda:0', grad_fn=<SelectBackward0>)\n",
      "tensor([ 8.4564e+01,  6.0377e-02, -4.0504e+02], device='cuda:0',\n",
      "       grad_fn=<MulBackward0>)\n",
      "tensor(489.0452, device='cuda:0', grad_fn=<SelectBackward0>)\n",
      "tensor([ 8.4564e+01,  6.0377e-02, -4.0504e+02], device='cuda:0',\n",
      "       grad_fn=<MulBackward0>)\n",
      "tensor(770.1149, device='cuda:0', grad_fn=<SelectBackward0>)\n",
      "tensor([ 8.4564e+01,  6.0377e-02, -4.0504e+02], device='cuda:0',\n",
      "       grad_fn=<MulBackward0>)\n"
     ]
    },
    {
     "name": "stderr",
     "output_type": "stream",
     "text": [
      "  0%|          | 0/13 [00:03<?, ?it/s]"
     ]
    },
    {
     "name": "stdout",
     "output_type": "stream",
     "text": [
      "tensor(936.1519, device='cuda:0', grad_fn=<SelectBackward0>)\n",
      "tensor([ 8.4564e+01,  6.0377e-02, -4.0504e+02], device='cuda:0',\n",
      "       grad_fn=<MulBackward0>)\n"
     ]
    },
    {
     "name": "stderr",
     "output_type": "stream",
     "text": [
      "\n"
     ]
    }
   ],
   "source": [
    "for batch in tqdm(train_dataloader):\n",
    "    X, coeffs, y, t = batch\n",
    "    X = X.cuda()\n",
    "    y = y.cuda()\n",
    "    #print(X)\n",
    "    print(X.shape[1])\n",
    "    cached_loss = torch.zeros(X.shape[1], device=X.device)\n",
    "    cached_results = torch.zeros(X.shape[1], 3, device=X.device)\n",
    "    for i in range(X.shape[1]):\n",
    "        X_recover = X.clone()\n",
    "        X_recover[:,:i,1] = -X[:,:i,1]\n",
    "        coeffs = torchcde.hermite_cubic_coefficients_with_backward_differences(X_recover)\n",
    "        current_output = model(coeffs)\n",
    "        current_loss = curve_loss_val(current_output*(torch.Tensor([100,1,1000]).cuda()), y*(torch.Tensor([100,1,1000]).cuda()), torch.linspace(100,4000,30).cuda())\n",
    "        print(current_loss[4])\n",
    "        if i == 0:\n",
    "            cached_loss = current_loss\n",
    "            cached_results = current_output\n",
    "        else:\n",
    "            cached_results = torch.where((current_loss < cached_loss).reshape(8,1).expand(-1,3), current_output, cached_results)\n",
    "            cached_loss = torch.where(current_loss < cached_loss, current_loss, cached_loss)\n",
    "        print(cached_results[4]*torch.Tensor([100,1,1000]).cuda())\n",
    "    y = y.cuda()\n",
    "    t = t.cuda()\n",
    "    break"
   ]
  },
  {
   "cell_type": "code",
   "execution_count": 15,
   "metadata": {},
   "outputs": [
    {
     "data": {
      "text/plain": [
       "tensor([[ 0.1314,  4.2405, -4.9123],\n",
       "        [-0.3128, -0.6133,  1.3500],\n",
       "        [ 0.4953,  1.9717, -1.8283],\n",
       "        [-0.0504, -0.7837,  1.2940],\n",
       "        [ 0.8456,  0.0604, -0.4050],\n",
       "        [ 0.5579,  0.0401, -0.1221],\n",
       "        [-0.2539, -0.6984,  1.3845],\n",
       "        [ 0.6740,  0.2332, -0.3650]], device='cuda:0',\n",
       "       grad_fn=<WhereBackward0>)"
      ]
     },
     "execution_count": 15,
     "metadata": {},
     "output_type": "execute_result"
    }
   ],
   "source": [
    "cached_results"
   ]
  },
  {
   "cell_type": "code",
   "execution_count": 16,
   "metadata": {},
   "outputs": [
    {
     "data": {
      "text/plain": [
       "torch.Size([8, 3])"
      ]
     },
     "execution_count": 16,
     "metadata": {},
     "output_type": "execute_result"
    }
   ],
   "source": [
    "cached_results.shape"
   ]
  },
  {
   "cell_type": "code",
   "execution_count": 17,
   "metadata": {},
   "outputs": [
    {
     "data": {
      "text/plain": [
       "tensor([[False, False, False],\n",
       "        [False, False, False],\n",
       "        [False, False, False],\n",
       "        [False, False, False],\n",
       "        [False, False, False],\n",
       "        [False, False, False],\n",
       "        [False, False, False],\n",
       "        [False, False, False]], device='cuda:0')"
      ]
     },
     "execution_count": 17,
     "metadata": {},
     "output_type": "execute_result"
    }
   ],
   "source": [
    "(current_loss < cached_loss).reshape(8,1).expand(-1,3)"
   ]
  },
  {
   "cell_type": "code",
   "execution_count": 18,
   "metadata": {},
   "outputs": [
    {
     "data": {
      "text/plain": [
       "(tensor([[-0.0107, -1.0937],\n",
       "         [ 0.0404, -0.9034],\n",
       "         [ 0.0758, -0.7808],\n",
       "         [ 0.4506,  0.1109],\n",
       "         [ 0.6542,  0.4037],\n",
       "         [ 0.7162,  0.4796],\n",
       "         [ 0.9931,  0.7265],\n",
       "         [ 1.0693,  0.7557],\n",
       "         [ 1.1235,  0.7451],\n",
       "         [ 1.6126,  0.8847],\n",
       "         [ 2.0991,  0.9304]], device='cuda:0'),\n",
       " tensor([ 201.8022,    2.0727, 1143.9677], device='cuda:0'),\n",
       " tensor([-1.3729e+02, -1.1062e+00,  2.9173e+03], device='cuda:0',\n",
       "        grad_fn=<MulBackward0>))"
      ]
     },
     "execution_count": 18,
     "metadata": {},
     "output_type": "execute_result"
    }
   ],
   "source": [
    "X[4],y[4]*torch.Tensor([100,1,1000]).cuda(),current_output[4]*torch.Tensor([100,1,1000]).cuda()"
   ]
  },
  {
   "cell_type": "code",
   "execution_count": 19,
   "metadata": {},
   "outputs": [
    {
     "data": {
      "text/plain": [
       "[<matplotlib.lines.Line2D at 0x7fd0755039a0>]"
      ]
     },
     "execution_count": 19,
     "metadata": {},
     "output_type": "execute_result"
    },
    {
     "data": {
      "image/png": "[encoded data removed]",
      "text/plain": [
       "<Figure size 640x480 with 1 Axes>"
      ]
     },
     "metadata": {},
     "output_type": "display_data"
    }
   ],
   "source": [
    "plt.plot((X[4]*torch.Tensor([2000,200]).cuda()).cpu().detach().numpy().reshape(-1,2)[:,0],(X[4]*torch.Tensor([2000,200]).cuda()).cpu().detach().numpy().reshape(-1,2)[:,1])"
   ]
  },
  {
   "cell_type": "code",
   "execution_count": 20,
   "metadata": {},
   "outputs": [
    {
     "ename": "IndexError",
     "evalue": "Dimension out of range (expected to be in range of [-1, 0], but got 1)",
     "output_type": "error",
     "traceback": [
      "\u001b[0;31m---------------------------------------------------------------------------\u001b[0m",
      "\u001b[0;31mIndexError\u001b[0m                                Traceback (most recent call last)",
      "Cell \u001b[0;32mIn[20], line 1\u001b[0m\n\u001b[0;32m----> 1\u001b[0m current_loss\u001b[39m.\u001b[39;49mmean(axis\u001b[39m=\u001b[39;49m\u001b[39m1\u001b[39;49m)\n",
      "\u001b[0;31mIndexError\u001b[0m: Dimension out of range (expected to be in range of [-1, 0], but got 1)"
     ]
    }
   ],
   "source": [
    "current_loss.mean(axis=1)"
   ]
  },
  {
   "attachments": {},
   "cell_type": "markdown",
   "metadata": {},
   "source": [
    "# Try MLP"
   ]
  },
  {
   "cell_type": "code",
   "execution_count": 4,
   "metadata": {},
   "outputs": [],
   "source": [
    "def curve_loss_val(output, target,inv_times):\n",
    "    target_signal = target[:,0].unsqueeze(-1)*(1 - target[:,1].unsqueeze(-1)*torch.exp(-1*inv_times.unsqueeze(0)/target[:,2].unsqueeze(-1)))\n",
    "    output_signal = output[:,0].unsqueeze(-1)*(1 - output[:,1].unsqueeze(-1)*torch.exp(-1*inv_times.unsqueeze(0)/output[:,2].unsqueeze(-1)))\n",
    "    #print(target_signal)\n",
    "    #print(output_signal)\n",
    "    loss = torch.abs(target_signal - output_signal)\n",
    "    #print(loss)\n",
    "    return loss.mean(axis=1)"
   ]
  },
  {
   "cell_type": "code",
   "execution_count": 5,
   "metadata": {},
   "outputs": [],
   "source": [
    "import numpy as np\n",
    "import matplotlib.pyplot as plt\n",
    "import seaborn as sns\n",
    "\n",
    "\n",
    "# Set the seaborn theme\n",
    "sns.set_theme()"
   ]
  },
  {
   "cell_type": "code",
   "execution_count": 66,
   "metadata": {},
   "outputs": [],
   "source": [
    "model = MLP_myomapnet(input_channels=22, hidden_channels=400, output_channels=3)\n",
    "model.load_state_dict(torch.load('/mnt/vol6t/Projects/NeuralCDE/T1_mapping/scripts/wandb/run-20230613_175241-jl7j9ile/files/model_at_epoch_31.pt'))\n",
    "model = model.cuda()"
   ]
  },
  {
   "cell_type": "code",
   "execution_count": 67,
   "metadata": {},
   "outputs": [
    {
     "name": "stderr",
     "output_type": "stream",
     "text": [
      "100%|██████████| 100/100 [00:00<00:00, 5725.15it/s]"
     ]
    },
    {
     "name": "stdout",
     "output_type": "stream",
     "text": [
      "tensor([-0.0197, -0.4481,  0.1712, -0.3698,  0.2149, -0.2938,  0.5280,  0.0917,\n",
      "         0.5912,  0.1403,  0.6981,  0.1988,  0.9234,  0.3661,  0.9959,  0.3839,\n",
      "         1.0499,  0.4190,  1.5495,  0.5470,  2.0314,  0.6038])\n"
     ]
    },
    {
     "name": "stderr",
     "output_type": "stream",
     "text": [
      "\n"
     ]
    }
   ],
   "source": [
    "\n",
    "train_X, train_y, train_time = get_data_seq_raw(fixed = True, t_perturb = True, varying_length= False, rician = False, dataset_size= 100)\n",
    "train_X_norm = train_X.clone()\n",
    "train_y_norm = train_y.clone()\n",
    "train_time_norm = train_time.clone()\n",
    "train_X_norm = train_X_norm/torch.Tensor([2000,200])\n",
    "train_time_norm = train_time_norm/torch.Tensor([2000])\n",
    "train_y_norm = train_y_norm/torch.Tensor([100,1,1000])\n",
    "\n",
    "\n",
    "\n",
    "train_X_norm = (train_X_norm).reshape([-1,22])\n",
    "print(train_X_norm[0])\n",
    "train_dataset = torch.utils.data.TensorDataset(train_X_norm, train_y_norm)\n"
   ]
  },
  {
   "cell_type": "code",
   "execution_count": 61,
   "metadata": {},
   "outputs": [],
   "source": [
    "train_dataloader = torch.utils.data.DataLoader(train_dataset, batch_size=8, shuffle=False)"
   ]
  },
  {
   "cell_type": "code",
   "execution_count": 68,
   "metadata": {},
   "outputs": [
    {
     "name": "stderr",
     "output_type": "stream",
     "text": [
      "  0%|          | 0/13 [00:00<?, ?it/s]"
     ]
    },
    {
     "name": "stdout",
     "output_type": "stream",
     "text": [
      "current invert point is 1\n",
      "tensor([ 0.1382, -1.3180,  0.1666, -1.2318,  0.1877, -1.0952,  0.5415, -0.6318,\n",
      "         0.5766, -0.5299,  0.5915, -0.4427,  0.9734, -0.1631,  1.1180, -0.1350,\n",
      "         1.1299, -0.0466,  1.5460,  0.2600,  1.9497,  0.3902], device='cuda:0')\n",
      "tensor([ 361.4833,    0.0000, 2468.5039], device='cuda:0',\n",
      "       grad_fn=<MulBackward0>)\n",
      "tensor(411.7608, device='cuda:0', grad_fn=<SelectBackward0>)\n",
      "tensor([ 155.4302,    2.8460, 2302.5959], device='cuda:0')\n",
      "tensor(411.7608, device='cuda:0', grad_fn=<SelectBackward0>)\n",
      "current invert point is 2\n",
      "tensor([ 0.1382, -1.3180,  0.1666, -1.2318,  0.1877, -1.0952,  0.5415, -0.6318,\n",
      "         0.5766, -0.5299,  0.5915, -0.4427,  0.9734, -0.1631,  1.1180, -0.1350,\n",
      "         1.1299, -0.0466,  1.5460,  0.2600,  1.9497,  0.3902], device='cuda:0')\n",
      "tensor([ 361.4833,    0.0000, 2468.5039], device='cuda:0',\n",
      "       grad_fn=<MulBackward0>)\n",
      "tensor(411.7608, device='cuda:0', grad_fn=<SelectBackward0>)\n",
      "tensor([ 155.4302,    2.8460, 2302.5959], device='cuda:0')\n",
      "tensor(411.7608, device='cuda:0', grad_fn=<SelectBackward0>)\n",
      "current invert point is 3\n",
      "tensor([ 0.1382, -1.3180,  0.1666, -1.2318,  0.1877, -1.0952,  0.5415, -0.6318,\n",
      "         0.5766, -0.5299,  0.5915, -0.4427,  0.9734, -0.1631,  1.1180, -0.1350,\n",
      "         1.1299, -0.0466,  1.5460,  0.2600,  1.9497,  0.3902], device='cuda:0')\n",
      "tensor([ 361.4833,    0.0000, 2468.5039], device='cuda:0',\n",
      "       grad_fn=<MulBackward0>)\n",
      "tensor(411.7608, device='cuda:0', grad_fn=<SelectBackward0>)\n",
      "tensor([ 155.4302,    2.8460, 2302.5959], device='cuda:0')\n",
      "tensor(411.7608, device='cuda:0', grad_fn=<SelectBackward0>)\n",
      "current invert point is 4\n",
      "tensor([ 0.1382, -1.3180,  0.1666, -1.2318,  0.1877, -1.0952,  0.5415, -0.6318,\n",
      "         0.5766, -0.5299,  0.5915, -0.4427,  0.9734, -0.1631,  1.1180, -0.1350,\n",
      "         1.1299, -0.0466,  1.5460,  0.2600,  1.9497,  0.3902], device='cuda:0')\n",
      "tensor([ 361.4833,    0.0000, 2468.5039], device='cuda:0',\n",
      "       grad_fn=<MulBackward0>)\n",
      "tensor(411.7608, device='cuda:0', grad_fn=<SelectBackward0>)\n",
      "tensor([ 155.4302,    2.8460, 2302.5959], device='cuda:0')\n",
      "tensor(411.7608, device='cuda:0', grad_fn=<SelectBackward0>)\n",
      "current invert point is 5\n",
      "tensor([ 0.1382, -1.3180,  0.1666, -1.2318,  0.1877, -1.0952,  0.5415, -0.6318,\n",
      "         0.5766, -0.5299,  0.5915, -0.4427,  0.9734, -0.1631,  1.1180, -0.1350,\n",
      "         1.1299, -0.0466,  1.5460,  0.2600,  1.9497,  0.3902], device='cuda:0')\n",
      "tensor([ 361.4833,    0.0000, 2468.5039], device='cuda:0',\n",
      "       grad_fn=<MulBackward0>)\n",
      "tensor(411.7608, device='cuda:0', grad_fn=<SelectBackward0>)\n",
      "tensor([ 155.4302,    2.8460, 2302.5959], device='cuda:0')\n",
      "tensor(411.7608, device='cuda:0', grad_fn=<SelectBackward0>)\n",
      "current invert point is 6\n",
      "tensor([ 0.1382, -1.3180,  0.1666, -1.2318,  0.1877, -1.0952,  0.5415, -0.6318,\n",
      "         0.5766, -0.5299,  0.5915, -0.4427,  0.9734, -0.1631,  1.1180, -0.1350,\n",
      "         1.1299, -0.0466,  1.5460,  0.2600,  1.9497,  0.3902], device='cuda:0')\n",
      "tensor([ 361.4833,    0.0000, 2468.5039], device='cuda:0',\n",
      "       grad_fn=<MulBackward0>)\n",
      "tensor(411.7608, device='cuda:0', grad_fn=<SelectBackward0>)\n",
      "tensor([ 155.4302,    2.8460, 2302.5959], device='cuda:0')\n",
      "tensor(411.7608, device='cuda:0', grad_fn=<SelectBackward0>)\n",
      "current invert point is 7\n",
      "tensor([ 0.1382, -1.3180,  0.1666, -1.2318,  0.1877, -1.0952,  0.5415, -0.6318,\n",
      "         0.5766, -0.5299,  0.5915, -0.4427,  0.9734, -0.1631,  1.1180, -0.1350,\n",
      "         1.1299, -0.0466,  1.5460,  0.2600,  1.9497,  0.3902], device='cuda:0')\n",
      "tensor([ 361.4833,    0.0000, 2468.5039], device='cuda:0',\n",
      "       grad_fn=<MulBackward0>)\n",
      "tensor(411.7608, device='cuda:0', grad_fn=<SelectBackward0>)\n",
      "tensor([ 155.4302,    2.8460, 2302.5959], device='cuda:0')\n",
      "tensor(411.7608, device='cuda:0', grad_fn=<SelectBackward0>)\n",
      "current invert point is 8\n",
      "tensor([ 0.1382, -1.3180,  0.1666, -1.2318,  0.1877, -1.0952,  0.5415, -0.6318,\n",
      "         0.5766, -0.5299,  0.5915, -0.4427,  0.9734, -0.1631,  1.1180, -0.1350,\n",
      "         1.1299, -0.0466,  1.5460,  0.2600,  1.9497,  0.3902], device='cuda:0')\n",
      "tensor([ 361.4833,    0.0000, 2468.5039], device='cuda:0',\n",
      "       grad_fn=<MulBackward0>)\n",
      "tensor(411.7608, device='cuda:0', grad_fn=<SelectBackward0>)\n",
      "tensor([ 155.4302,    2.8460, 2302.5959], device='cuda:0')\n",
      "tensor(411.7608, device='cuda:0', grad_fn=<SelectBackward0>)\n",
      "current invert point is 9\n",
      "tensor([ 0.1382, -1.3180,  0.1666, -1.2318,  0.1877, -1.0952,  0.5415, -0.6318,\n",
      "         0.5766, -0.5299,  0.5915, -0.4427,  0.9734, -0.1631,  1.1180, -0.1350,\n",
      "         1.1299, -0.0466,  1.5460,  0.2600,  1.9497,  0.3902], device='cuda:0')\n",
      "tensor([ 361.4833,    0.0000, 2468.5039], device='cuda:0',\n",
      "       grad_fn=<MulBackward0>)\n",
      "tensor(411.7608, device='cuda:0', grad_fn=<SelectBackward0>)\n",
      "tensor([ 155.4302,    2.8460, 2302.5959], device='cuda:0')\n",
      "tensor(411.7608, device='cuda:0', grad_fn=<SelectBackward0>)\n",
      "current invert point is 10\n",
      "tensor([ 0.1382, -1.3180,  0.1666, -1.2318,  0.1877, -1.0952,  0.5415, -0.6318,\n",
      "         0.5766, -0.5299,  0.5915, -0.4427,  0.9734, -0.1631,  1.1180, -0.1350,\n",
      "         1.1299, -0.0466,  1.5460,  0.2600,  1.9497,  0.3902], device='cuda:0')\n",
      "tensor([ 361.4833,    0.0000, 2468.5039], device='cuda:0',\n",
      "       grad_fn=<MulBackward0>)\n",
      "tensor(411.7608, device='cuda:0', grad_fn=<SelectBackward0>)\n",
      "tensor([ 155.4302,    2.8460, 2302.5959], device='cuda:0')\n",
      "tensor(411.7608, device='cuda:0', grad_fn=<SelectBackward0>)\n",
      "current invert point is 11\n",
      "tensor([ 0.1382, -1.3180,  0.1666, -1.2318,  0.1877, -1.0952,  0.5415, -0.6318,\n",
      "         0.5766, -0.5299,  0.5915, -0.4427,  0.9734, -0.1631,  1.1180, -0.1350,\n",
      "         1.1299, -0.0466,  1.5460,  0.2600,  1.9497,  0.3902], device='cuda:0')\n",
      "tensor([ 361.4833,    0.0000, 2468.5039], device='cuda:0',\n",
      "       grad_fn=<MulBackward0>)\n",
      "tensor(411.7608, device='cuda:0', grad_fn=<SelectBackward0>)\n",
      "tensor([ 155.4302,    2.8460, 2302.5959], device='cuda:0')\n",
      "tensor(411.7608, device='cuda:0', grad_fn=<SelectBackward0>)\n",
      "tensor([ 361.4833,    0.0000, 2468.5039], device='cuda:0',\n",
      "       grad_fn=<MulBackward0>)\n"
     ]
    },
    {
     "name": "stderr",
     "output_type": "stream",
     "text": [
      "\n"
     ]
    }
   ],
   "source": [
    "index = 5\n",
    "predicted_parameters = []\n",
    "for batch in tqdm(train_dataloader):\n",
    "    batch_coeffs, batch_y= batch\n",
    "    batch_coeffs = batch_coeffs.cuda()\n",
    "    batch_y = batch_y.cuda()\n",
    "    cached_loss = torch.zeros(batch_coeffs.shape[1], device=batch_coeffs.device)\n",
    "    cached_results = torch.zeros(batch_coeffs.shape[1], 3, device=batch_coeffs.device)\n",
    "    for i in range(batch_coeffs.shape[1]//2):\n",
    "        print(f'current invert point is {i+1}')\n",
    "        coeffs_recover = batch_coeffs.clone()\n",
    "        #coeffs_recover[:,1:i*2+2:2] = -batch_coeffs[:,1:i*2+2:2]\n",
    "        print(coeffs_recover[index])\n",
    "        current_output = model(coeffs_recover)\n",
    "        predicted_parameters.append(current_output[index]*torch.Tensor([100,1,1000]).cuda())\n",
    "        current_loss = curve_loss_val(current_output*(torch.Tensor([100,1,1000]).cuda()), batch_y*(torch.Tensor([100,1,1000]).cuda()), torch.linspace(100,4000,30).cuda())\n",
    "        print(current_output[index]*torch.Tensor([100,1,1000]).cuda())\n",
    "        print(current_loss[index])\n",
    "        if i == 0:\n",
    "            cached_loss = current_loss\n",
    "            cached_results = current_output\n",
    "        else:\n",
    "            cached_results = torch.where((current_loss < cached_loss).reshape(batch_coeffs.shape[0],1).expand(-1,3), current_output, cached_results)\n",
    "            cached_loss = torch.where(current_loss < cached_loss, current_loss, cached_loss)\n",
    "        #print(cached_results[4]*torch.Tensor([100,1,1000]).cuda())\n",
    "        print(batch_y[index] * torch.Tensor([100, 1, 1000]).cuda())\n",
    "        print(cached_loss[index])\n",
    "    break\n",
    "\n",
    "print(cached_results[index]*torch.Tensor([100,1,1000]).cuda())"
   ]
  },
  {
   "cell_type": "code",
   "execution_count": 69,
   "metadata": {},
   "outputs": [],
   "source": [
    "ground_truth = (batch_y[index]*torch.Tensor([100,1,1000]).cuda()).cpu().detach().numpy()"
   ]
  },
  {
   "cell_type": "code",
   "execution_count": 70,
   "metadata": {},
   "outputs": [],
   "source": [
    "def T1_3param(t, C, k, T1):\n",
    "    '''\n",
    "    MOLLI signal acquistion equation s(t) = C(1 - k * np.exp(-t*(k-1)/T1))\n",
    "    '''\n",
    "    return C*(1 - k * np.exp(-t*(k-1)/T1))\n",
    "\n",
    "def T1_3param_modified(t, C, k, T1_star):\n",
    "    '''\n",
    "    MOLLI signal acquistion equation s(t) = C(1 - k * np.exp(-t/T1_star))\n",
    "    '''\n",
    "    return C*(1 - k * np.exp((-t)/T1_star))"
   ]
  },
  {
   "cell_type": "code",
   "execution_count": 33,
   "metadata": {},
   "outputs": [],
   "source": [
    "ground_truth = (current_output[0]*torch.Tensor([100,1,10]).cuda()).cpu().detach().numpy()"
   ]
  },
  {
   "cell_type": "code",
   "execution_count": 71,
   "metadata": {},
   "outputs": [
    {
     "name": "stdout",
     "output_type": "stream",
     "text": [
      "Fitted[ 361.48328    0.      2468.504  ]\n",
      "Ground Truth[ 155.43022      2.8459744 2302.596    ]\n"
     ]
    },
    {
     "data": {
      "text/plain": [
       "<matplotlib.legend.Legend at 0x7f7c719b5f10>"
      ]
     },
     "execution_count": 71,
     "metadata": {},
     "output_type": "execute_result"
    },
    {
     "data": {
      "image/png": "[encoded data removed]",
      "text/plain": [
       "<Figure size 640x480 with 1 Axes>"
      ]
     },
     "metadata": {},
     "output_type": "display_data"
    }
   ],
   "source": [
    "y_fit = T1_3param_modified(np.linspace(0,3500,100), ground_truth[0], ground_truth[1], ground_truth[2])\n",
    "cached_results_recovered = cached_results[index]*torch.Tensor([100,1,1000]).cuda()\n",
    "y_predict = T1_3param_modified(np.linspace(0,3500,100), cached_results_recovered[0].cpu().detach().numpy(), cached_results_recovered[1].cpu().detach().numpy(), cached_results_recovered[2].cpu().detach().numpy())\n",
    "print(f\"Fitted{(cached_results[index]*torch.Tensor([100,1,1000]).cuda()).cpu().detach().numpy()}\")\n",
    "print(f\"Ground Truth{(batch_y[index]*torch.Tensor([100,1,1000]).cuda()).cpu().detach().numpy()}\")\n",
    "#print(\"ground truth\"+(batch_y[4]*torch.Tensor([100,1,1000]).cuda()).cpu().detach().numpy())\n",
    "time_tensor = torch.linspace(100,4000,30)\n",
    "x = np.linspace(0,3500,100)\n",
    "# Plot the original data and the fitted curve\n",
    "#plt.plot(x, y, 'bo', label='Original Data')\n",
    "plt.plot(np.linspace(0,time_tensor.max(),100), y_fit, 'r-', label='Ground Truth Curve')\n",
    "plt.plot(np.linspace(0,time_tensor.max(),100), y_predict, 'g-', label='Best Predicted Curve')\n",
    "\n",
    "for i in range(len(predicted_parameters)):\n",
    "    y_pred = predicted_parameters[i]\n",
    "    y_pred = T1_3param_modified(np.linspace(0,3500,100), y_pred[0].cpu().detach().numpy(), y_pred[1].cpu().detach().numpy(), y_pred[2].cpu().detach().numpy())\n",
    "    plt.plot(np.linspace(0,time_tensor.max(),100), y_pred,  label = str(f'step {(i+1)}'),alpha=0.5)\n",
    "plt.xlabel('x')\n",
    "plt.ylabel('y')\n",
    "plt.legend()"
   ]
  },
  {
   "cell_type": "code",
   "execution_count": 57,
   "metadata": {},
   "outputs": [
    {
     "data": {
      "text/plain": [
       "[tensor([ 320.0849,    0.0000, 1391.0880], device='cuda:0',\n",
       "        grad_fn=<MulBackward0>),\n",
       " tensor([ 320.0849,    0.0000, 1391.0880], device='cuda:0',\n",
       "        grad_fn=<MulBackward0>),\n",
       " tensor([ 320.0849,    0.0000, 1391.0880], device='cuda:0',\n",
       "        grad_fn=<MulBackward0>),\n",
       " tensor([ 320.0849,    0.0000, 1391.0880], device='cuda:0',\n",
       "        grad_fn=<MulBackward0>),\n",
       " tensor([ 320.0849,    0.0000, 1391.0880], device='cuda:0',\n",
       "        grad_fn=<MulBackward0>),\n",
       " tensor([ 320.0849,    0.0000, 1391.0880], device='cuda:0',\n",
       "        grad_fn=<MulBackward0>),\n",
       " tensor([ 320.0849,    0.0000, 1391.0880], device='cuda:0',\n",
       "        grad_fn=<MulBackward0>),\n",
       " tensor([ 320.0849,    0.0000, 1391.0880], device='cuda:0',\n",
       "        grad_fn=<MulBackward0>),\n",
       " tensor([ 320.0849,    0.0000, 1391.0880], device='cuda:0',\n",
       "        grad_fn=<MulBackward0>),\n",
       " tensor([ 320.0849,    0.0000, 1391.0880], device='cuda:0',\n",
       "        grad_fn=<MulBackward0>),\n",
       " tensor([ 320.0849,    0.0000, 1391.0880], device='cuda:0',\n",
       "        grad_fn=<MulBackward0>)]"
      ]
     },
     "execution_count": 57,
     "metadata": {},
     "output_type": "execute_result"
    }
   ],
   "source": [
    "predicted_parameters"
   ]
  },
  {
   "cell_type": "code",
   "execution_count": 22,
   "metadata": {},
   "outputs": [],
   "source": [
    "def curve_loss(output, target,inv_times):\n",
    "    target_signal = target[:,0].unsqueeze(-1)*(1 - target[:,1].unsqueeze(-1)*torch.exp(-1*inv_times.unsqueeze(0)*(target[:,1].unsqueeze(-1) - 1)/target[:,2].unsqueeze(-1)))\n",
    "    output_signal = output[:,0].unsqueeze(-1)*(1 - output[:,1].unsqueeze(-1)*torch.exp(-1*inv_times.unsqueeze(0)*(output[:,1].unsqueeze(-1) - 1)/output[:,2].unsqueeze(-1)))\n",
    "    print(target_signal)\n",
    "    print(output_signal)\n",
    "    loss = torch.mean(torch.abs(target_signal - output_signal))\n",
    "    #print(loss)\n",
    "    return loss\n"
   ]
  },
  {
   "cell_type": "code",
   "execution_count": 72,
   "metadata": {},
   "outputs": [
    {
     "data": {
      "text/plain": [
       "tensor([ 0.,  2.,  6., 12., 20., 30., 42., 56., 72., 90.])"
      ]
     },
     "execution_count": 72,
     "metadata": {},
     "output_type": "execute_result"
    }
   ],
   "source": [
    "a = torch.Tensor([1,2,3,4,5,6,7,8,9,10])\n",
    "b = torch.Tensor([1,2,3,4,5,6,7,8,9,10])\n",
    "a*(b-1)"
   ]
  },
  {
   "cell_type": "code",
   "execution_count": 243,
   "metadata": {},
   "outputs": [
    {
     "data": {
      "text/plain": [
       "tensor([4.6488e+02, 3.4988e-02, 1.6109e+01], device='cuda:0',\n",
       "       grad_fn=<MulBackward0>)"
      ]
     },
     "execution_count": 243,
     "metadata": {},
     "output_type": "execute_result"
    }
   ],
   "source": [
    "current_output[0]*torch.Tensor([100,0.01,10]).cuda()"
   ]
  },
  {
   "cell_type": "code",
   "execution_count": 241,
   "metadata": {},
   "outputs": [
    {
     "name": "stdout",
     "output_type": "stream",
     "text": [
      "tensor([[-2.2432e+04, -4.2011e+08, -7.7047e+12, -1.4130e+17, -2.5914e+21,\n",
      "         -4.7525e+25, -8.7158e+29, -1.5984e+34, -2.9314e+38,        -inf,\n",
      "                -inf,        -inf,        -inf,        -inf,        -inf,\n",
      "                -inf,        -inf,        -inf,        -inf,        -inf,\n",
      "                -inf,        -inf,        -inf,        -inf,        -inf,\n",
      "                -inf,        -inf,        -inf,        -inf,        -inf],\n",
      "        [-1.6300e+03, -3.3152e+06, -5.3683e+09, -8.6920e+12, -1.4073e+16,\n",
      "         -2.2787e+19, -3.6895e+22, -5.9737e+25, -9.6722e+28, -1.5661e+32,\n",
      "         -2.5357e+35,        -inf,        -inf,        -inf,        -inf,\n",
      "                -inf,        -inf,        -inf,        -inf,        -inf,\n",
      "                -inf,        -inf,        -inf,        -inf,        -inf,\n",
      "                -inf,        -inf,        -inf,        -inf,        -inf],\n",
      "        [-1.7107e+02, -3.7468e+05, -5.0351e+08, -6.7643e+11, -9.0876e+14,\n",
      "         -1.2209e+18, -1.6402e+21, -2.2035e+24, -2.9603e+27, -3.9770e+30,\n",
      "         -5.3429e+33, -7.1779e+36,        -inf,        -inf,        -inf,\n",
      "                -inf,        -inf,        -inf,        -inf,        -inf,\n",
      "                -inf,        -inf,        -inf,        -inf,        -inf,\n",
      "                -inf,        -inf,        -inf,        -inf,        -inf],\n",
      "        [-1.7941e+02, -3.4334e+05, -2.4954e+08, -1.8121e+11, -1.3159e+14,\n",
      "         -9.5556e+16, -6.9390e+19, -5.0389e+22, -3.6591e+25, -2.6572e+28,\n",
      "         -1.9296e+31, -1.4012e+34, -1.0175e+37,        -inf,        -inf,\n",
      "                -inf,        -inf,        -inf,        -inf,        -inf,\n",
      "                -inf,        -inf,        -inf,        -inf,        -inf,\n",
      "                -inf,        -inf,        -inf,        -inf,        -inf],\n",
      "        [-2.8053e+04, -1.5947e+09, -8.9443e+13, -5.0167e+18, -2.8138e+23,\n",
      "         -1.5782e+28, -8.8517e+32, -4.9647e+37,        -inf,        -inf,\n",
      "                -inf,        -inf,        -inf,        -inf,        -inf,\n",
      "                -inf,        -inf,        -inf,        -inf,        -inf,\n",
      "                -inf,        -inf,        -inf,        -inf,        -inf,\n",
      "                -inf,        -inf,        -inf,        -inf,        -inf],\n",
      "        [-6.3441e+02, -4.4227e+06, -2.7688e+10, -1.7333e+14, -1.0851e+18,\n",
      "         -6.7929e+21, -4.2525e+25, -2.6621e+29, -1.6666e+33, -1.0433e+37,\n",
      "                -inf,        -inf,        -inf,        -inf,        -inf,\n",
      "                -inf,        -inf,        -inf,        -inf,        -inf,\n",
      "                -inf,        -inf,        -inf,        -inf,        -inf,\n",
      "                -inf,        -inf,        -inf,        -inf,        -inf],\n",
      "        [-1.1471e+03, -2.9831e+06, -7.0165e+09, -1.6503e+13, -3.8814e+16,\n",
      "         -9.1291e+19, -2.1472e+23, -5.0501e+26, -1.1878e+30, -2.7936e+33,\n",
      "         -6.5706e+36,        -inf,        -inf,        -inf,        -inf,\n",
      "                -inf,        -inf,        -inf,        -inf,        -inf,\n",
      "                -inf,        -inf,        -inf,        -inf,        -inf,\n",
      "                -inf,        -inf,        -inf,        -inf,        -inf],\n",
      "        [-4.7493e+05, -1.1060e+12, -2.5740e+18, -5.9904e+24, -1.3941e+31,\n",
      "         -3.2444e+37,        -inf,        -inf,        -inf,        -inf,\n",
      "                -inf,        -inf,        -inf,        -inf,        -inf,\n",
      "                -inf,        -inf,        -inf,        -inf,        -inf,\n",
      "                -inf,        -inf,        -inf,        -inf,        -inf,\n",
      "                -inf,        -inf,        -inf,        -inf,        -inf]],\n",
      "       device='cuda:0')\n",
      "tensor([[-6.0343e+03, -2.0490e+07, -6.4604e+10, -2.0369e+14, -6.4219e+17,\n",
      "         -2.0247e+21, -6.3837e+24, -2.0127e+28, -6.3456e+31, -2.0007e+35,\n",
      "                -inf,        -inf,        -inf,        -inf,        -inf,\n",
      "                -inf,        -inf,        -inf,        -inf,        -inf,\n",
      "                -inf,        -inf,        -inf,        -inf,        -inf,\n",
      "                -inf,        -inf,        -inf,        -inf,        -inf],\n",
      "        [ 6.4866e+02,  7.2830e+10,  8.1593e+18,  9.1410e+26,  1.0241e+35,\n",
      "                 inf,         inf,         inf,         inf,         inf,\n",
      "                 inf,         inf,         inf,         inf,         inf,\n",
      "                 inf,         inf,         inf,         inf,         inf,\n",
      "                 inf,         inf,         inf,         inf,         inf,\n",
      "                 inf,         inf,         inf,         inf,         inf],\n",
      "        [-4.7474e+03, -5.2762e+09, -5.8441e+15, -6.4732e+21, -7.1700e+27,\n",
      "         -7.9418e+33,        -inf,        -inf,        -inf,        -inf,\n",
      "                -inf,        -inf,        -inf,        -inf,        -inf,\n",
      "                -inf,        -inf,        -inf,        -inf,        -inf,\n",
      "                -inf,        -inf,        -inf,        -inf,        -inf,\n",
      "                -inf,        -inf,        -inf,        -inf,        -inf],\n",
      "        [-8.3969e+02, -1.2654e+09, -1.9014e+15, -2.8570e+21, -4.2929e+27,\n",
      "         -6.4504e+33,        -inf,        -inf,        -inf,        -inf,\n",
      "                -inf,        -inf,        -inf,        -inf,        -inf,\n",
      "                -inf,        -inf,        -inf,        -inf,        -inf,\n",
      "                -inf,        -inf,        -inf,        -inf,        -inf,\n",
      "                -inf,        -inf,        -inf,        -inf,        -inf],\n",
      "        [-1.1384e+04, -4.6756e+08, -1.8853e+13, -7.6018e+17, -3.0652e+22,\n",
      "         -1.2360e+27, -4.9836e+31, -2.0095e+36,        -inf,        -inf,\n",
      "                -inf,        -inf,        -inf,        -inf,        -inf,\n",
      "                -inf,        -inf,        -inf,        -inf,        -inf,\n",
      "                -inf,        -inf,        -inf,        -inf,        -inf,\n",
      "                -inf,        -inf,        -inf,        -inf,        -inf],\n",
      "        [-1.0192e+03, -1.5170e+09, -2.2513e+15, -3.3409e+21, -4.9578e+27,\n",
      "         -7.3575e+33,        -inf,        -inf,        -inf,        -inf,\n",
      "                -inf,        -inf,        -inf,        -inf,        -inf,\n",
      "                -inf,        -inf,        -inf,        -inf,        -inf,\n",
      "                -inf,        -inf,        -inf,        -inf,        -inf,\n",
      "                -inf,        -inf,        -inf,        -inf,        -inf],\n",
      "        [-8.5243e+03, -6.3230e+09, -4.6710e+15, -3.4506e+21, -2.5490e+27,\n",
      "         -1.8831e+33,        -inf,        -inf,        -inf,        -inf,\n",
      "                -inf,        -inf,        -inf,        -inf,        -inf,\n",
      "                -inf,        -inf,        -inf,        -inf,        -inf,\n",
      "                -inf,        -inf,        -inf,        -inf,        -inf,\n",
      "                -inf,        -inf,        -inf,        -inf,        -inf],\n",
      "        [-3.8700e+03, -3.5786e+06, -2.8168e+09, -2.2167e+12, -1.7444e+15,\n",
      "         -1.3728e+18, -1.0803e+21, -8.5016e+23, -6.6904e+26, -5.2651e+29,\n",
      "         -4.1434e+32, -3.2607e+35, -2.5660e+38,        -inf,        -inf,\n",
      "                -inf,        -inf,        -inf,        -inf,        -inf,\n",
      "                -inf,        -inf,        -inf,        -inf,        -inf,\n",
      "                -inf,        -inf,        -inf,        -inf,        -inf]],\n",
      "       device='cuda:0', grad_fn=<MulBackward0>)\n"
     ]
    },
    {
     "data": {
      "text/plain": [
       "tensor(nan, device='cuda:0', grad_fn=<MeanBackward0>)"
      ]
     },
     "execution_count": 241,
     "metadata": {},
     "output_type": "execute_result"
    }
   ],
   "source": [
    "curve_loss(current_output*(torch.Tensor([100,0.01,10]).cuda()), batch_y*(torch.Tensor([100,0.01,10]).cuda()), torch.linspace(100,4000,30).cuda())"
   ]
  },
  {
   "cell_type": "code",
   "execution_count": 254,
   "metadata": {},
   "outputs": [
    {
     "data": {
      "text/plain": [
       "tensor([4.3163, 3.5911, 2.2502, 2.4223, 2.6543, 2.2325, 5.4543, 2.4027],\n",
       "       device='cuda:0')"
      ]
     },
     "execution_count": 254,
     "metadata": {},
     "output_type": "execute_result"
    }
   ],
   "source": [
    "batch_y[:,2]*batch_y[:,1]"
   ]
  },
  {
   "cell_type": "code",
   "execution_count": null,
   "metadata": {},
   "outputs": [],
   "source": []
  }
 ],
 "metadata": {
  "kernelspec": {
   "display_name": "Python 3",
   "language": "python",
   "name": "python3"
  },
  "language_info": {
   "codemirror_mode": {
    "name": "ipython",
    "version": 3
   },
   "file_extension": ".py",
   "mimetype": "text/x-python",
   "name": "python",
   "nbconvert_exporter": "python",
   "pygments_lexer": "ipython3",
   "version": "3.9.16"
  },
  "orig_nbformat": 4
 },
 "nbformat": 4,
 "nbformat_minor": 2
}
