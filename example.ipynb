{
 "cells": [
  {
   "cell_type": "code",
   "execution_count": 1,
   "metadata": {},
   "outputs": [],
   "source": [
    "import torch\n",
    "import torchcde\n",
    "\n",
    "# Create some data\n",
    "batch, length, input_channels = 1, 10, 2\n",
    "hidden_channels = 3\n",
    "t = torch.linspace(0, 1, length)\n",
    "t_ = t.unsqueeze(0).unsqueeze(-1).expand(batch, length, 1)\n",
    "x_ = torch.rand(batch, length, input_channels - 1)\n",
    "x = torch.cat([t_, x_], dim=2)  # include time as a channel\n",
    "\n",
    "# Interpolate it\n",
    "coeffs = torchcde.hermite_cubic_coefficients_with_backward_differences(x)\n",
    "X = torchcde.CubicSpline(coeffs)\n",
    "\n",
    "# Create the Neural CDE system\n",
    "class F(torch.nn.Module):\n",
    "    def __init__(self):\n",
    "        super(F, self).__init__()\n",
    "        self.linear = torch.nn.Linear(hidden_channels,\n",
    "                                      hidden_channels * input_channels)\n",
    "\n",
    "    def forward(self, t, z):\n",
    "        return self.linear(z).view(batch, hidden_channels, input_channels)\n",
    "\n",
    "func = F()\n",
    "z0 = torch.rand(batch, hidden_channels)"
   ]
  },
  {
   "cell_type": "code",
   "execution_count": 3,
   "metadata": {},
   "outputs": [
    {
     "data": {
      "text/plain": [
       "tensor([[[0.6585, 0.5958, 0.3091],\n",
       "         [1.0481, 0.2348, 0.1695]]], grad_fn=<PermuteBackward0>)"
      ]
     },
     "execution_count": 3,
     "metadata": {},
     "output_type": "execute_result"
    }
   ],
   "source": [
    "torchcde.cdeint(X=X, func=func, z0=z0, t=X.interval)"
   ]
  }
 ],
 "metadata": {
  "kernelspec": {
   "display_name": "Python 3",
   "language": "python",
   "name": "python3"
  },
  "language_info": {
   "codemirror_mode": {
    "name": "ipython",
    "version": 3
   },
   "file_extension": ".py",
   "mimetype": "text/x-python",
   "name": "python",
   "nbconvert_exporter": "python",
   "pygments_lexer": "ipython3",
   "version": "3.9.16"
  },
  "orig_nbformat": 4
 },
 "nbformat": 4,
 "nbformat_minor": 2
}
